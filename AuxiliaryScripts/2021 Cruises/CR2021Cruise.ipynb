{
 "cells": [
  {
   "metadata": {
    "ExecuteTime": {
     "end_time": "2025-06-10T21:50:18.791100Z",
     "start_time": "2025-06-10T21:50:18.784928Z"
    }
   },
   "cell_type": "code",
   "source": [
    "from core.libs import pd\n",
    "from core.db import get_engine\n",
    "from core.schema_helpers import rename_columns_using_schema\n",
    "from CruisesProcessor.general_importer import prepare_df_for_sql, save_inventory_to_sql, ensure_table\n",
    "from CruisesProcessor.dead_alive_calculator import calculate_dead_alive\n",
    "from CruisesProcessor.tree_id import split_by_id_validity\n",
    "from core.doyle_calculator import calculate_doyle\n",
    "\n",
    "archivos = [\n",
    "    r\"C:\\Users\\HeyCe\\World Tree Technologies Inc\\Forest Inventory - Documentos\\Costa Rica\\2021_ForestInventory\\7-Database\\Final\\CostaRica_Database_All v1.1.xlsx\",\n",
    "    r\"C:\\Users\\HeyCe\\World Tree Technologies Inc\\Forest Inventory - Documentos\\Mexico\\2021_ForestInventory\\6-Database\\2021_Mexico_Database v1.0.xlsx\"\n",
    "    ,\n",
    "    r\"C:\\Users\\HeyCe\\World Tree Technologies Inc\\Forest Inventory - Documentos\\Guatemala\\2021_ForestInventory\\6-Database\\Database\\2021_Guatemala_Database v1.2.xlsx\",\n",
    "    r\"C:\\Users\\HeyCe\\World Tree Technologies Inc\\Forest Inventory - Documentos\\USA\\2021_ForestInventory\\9-Database\\2021_US_Database v1.1.xlsx\"\n",
    "    ]\n",
    "tablas_destino = ['inventory_cr_2021','inventory_mx_2021','inventory_gt_2021',  ]\n",
    "sheet = 'TreeList_Data'"
   ],
   "id": "18415ae8bb71fc6",
   "outputs": [],
   "execution_count": 8
  },
  {
   "metadata": {
    "ExecuteTime": {
     "end_time": "2025-06-10T21:50:22.105403Z",
     "start_time": "2025-06-10T21:50:20.279148Z"
    }
   },
   "cell_type": "code",
   "source": [
    "#Leer el archivo\n",
    "df_original = pd.read_excel(archivo, sheet_name=sheet)\n",
    "#print(\"📄 Columnas originales:\", list(df_original.columns))\n",
    "\n",
    "df = df_original.drop(columns=[\"DAP (cm)\", \"THt (m)\", \"MHt (m)\"], errors=\"ignore\")\n",
    "#print(\"📄 Columnas actuales:  \", list(df.columns))\n",
    "\n",
    "# Mostrar diferencia\n",
    "eliminadas = set(df_original.columns) - set(df.columns)\n",
    "#print(\"🗑️ Columnas eliminadas:\", eliminadas)\n",
    "df = rename_columns_using_schema(df)\n",
    "#print(df.head(5))\n"
   ],
   "id": "548b983662ecd9a8",
   "outputs": [],
   "execution_count": 9
  },
  {
   "metadata": {
    "ExecuteTime": {
     "end_time": "2025-06-10T21:50:24.137828Z",
     "start_time": "2025-06-10T21:50:23.940750Z"
    }
   },
   "cell_type": "code",
   "source": [
    "# CALCULADORES que faltaban:\n",
    "engine = get_engine()\n",
    "df = calculate_dead_alive(df, engine)\n",
    "df = calculate_doyle(df)\n",
    "\n",
    "df_ok, df_bad = split_by_id_validity(df)"
   ],
   "id": "daf488b5c16ce36e",
   "outputs": [
    {
     "name": "stdout",
     "output_type": "stream",
     "text": [
      "💻 Conectado a la base de datos helloworldtree\n",
      "🌳 Doyle calculado\n"
     ]
    }
   ],
   "execution_count": 10
  },
  {
   "metadata": {
    "ExecuteTime": {
     "end_time": "2025-06-10T21:50:48.187725Z",
     "start_time": "2025-06-10T21:50:48.100512Z"
    }
   },
   "cell_type": "code",
   "source": [
    "df_sql, _ = prepare_df_for_sql(df_ok)\n",
    "df_sql = df_sql.where(pd.notna(df_sql), None)\n",
    "\n",
    "#print(df_sql.head(5))\n",
    "\n",
    "# ← El segundo valor (dtypes) lo ignoramos\n",
    "tabla_destino = \"inventory_cr_2022\""
   ],
   "id": "8662c78cf414aa7f",
   "outputs": [
    {
     "name": "stdout",
     "output_type": "stream",
     "text": [
      "  contractcode        farmername cruisedate              id id_error  stand  \\\n",
      "0       CR0086  Agner Chinchilla       None  CR008601010001     None    1.0   \n",
      "1       CR0086  Agner Chinchilla       None  CR008601010002     None    1.0   \n",
      "2       CR0086  Agner Chinchilla       None  CR008601010003     None    1.0   \n",
      "3       CR0086  Agner Chinchilla       None  CR008601010004     None    1.0   \n",
      "4       CR0086  Agner Chinchilla       None  CR008601010005     None    1.0   \n",
      "\n",
      "  plot plot_coordinate  tree_number defect_ht_ft    dbh_in   tht_ft  \\\n",
      "0  1.0            <NA>          1.0         None  1.102362  6.56168   \n",
      "1  1.0            <NA>          2.0         None  1.062992  6.56168   \n",
      "2  1.0            <NA>          3.0         None  0.905512  6.56168   \n",
      "3  1.0            <NA>          4.0         None  1.377953  9.84252   \n",
      "4  1.0            <NA>          5.0         None  0.393701  3.28084   \n",
      "\n",
      "   merch_ht_ft short_note Species_id Defect_id Pests_id Coppiced_id  \\\n",
      "0          NaN       <NA>       None      None     None        None   \n",
      "1          NaN       <NA>       None      None     None        None   \n",
      "2          NaN       <NA>       None      None     None        None   \n",
      "3          NaN       <NA>       None      None     None        None   \n",
      "4          NaN       <NA>       None      None     None        None   \n",
      "\n",
      "  Permanent Plot_id Disease_id  doyle_bf  dead_tree  alive_tree  \n",
      "0              None       None  3.443366        1.0         0.0  \n",
      "1              None       None  3.537572        1.0         0.0  \n",
      "2              None       None  3.927107        1.0         0.0  \n",
      "3              None       None  4.229289        1.0         0.0  \n",
      "4              None       None  2.666788        1.0         0.0  \n"
     ]
    }
   ],
   "execution_count": 12
  },
  {
   "metadata": {
    "ExecuteTime": {
     "end_time": "2025-06-10T21:50:59.068900Z",
     "start_time": "2025-06-10T21:50:59.041525Z"
    }
   },
   "cell_type": "code",
   "source": [
    "ensure_table(df_sql, engine, tabla_destino)\n",
    "#print(df_sql.head(1))"
   ],
   "id": "76f6dee097581f69",
   "outputs": [],
   "execution_count": 14
  },
  {
   "metadata": {
    "ExecuteTime": {
     "end_time": "2025-06-10T21:51:01.824641Z",
     "start_time": "2025-06-10T21:51:00.456115Z"
    }
   },
   "cell_type": "code",
   "source": [
    "save_inventory_to_sql(df_sql, engine, tabla_destino)\n",
    "\n"
   ],
   "id": "fdb6bdf94fd23389",
   "outputs": [
    {
     "name": "stdout",
     "output_type": "stream",
     "text": [
      "\n",
      "=== INICIO DE IMPORTACIÓN ===\n",
      "💻 Conectado a la base de datos helloworldtree\n",
      "✅ Bulk insert completado: \n",
      " 'inventory_cr_2022' (4273 filas)\n"
     ]
    }
   ],
   "execution_count": 15
  }
 ],
 "metadata": {
  "kernelspec": {
   "display_name": "Python 3",
   "language": "python",
   "name": "python3"
  },
  "language_info": {
   "codemirror_mode": {
    "name": "ipython",
    "version": 2
   },
   "file_extension": ".py",
   "mimetype": "text/x-python",
   "name": "python",
   "nbconvert_exporter": "python",
   "pygments_lexer": "ipython2",
   "version": "2.7.6"
  }
 },
 "nbformat": 4,
 "nbformat_minor": 5
}
