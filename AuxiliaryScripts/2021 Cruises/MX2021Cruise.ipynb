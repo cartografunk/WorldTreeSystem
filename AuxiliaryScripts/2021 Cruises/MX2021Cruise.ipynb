{
 "cells": [
  {
   "metadata": {
    "ExecuteTime": {
     "end_time": "2025-06-09T23:48:46.079296Z",
     "start_time": "2025-06-09T23:48:46.054712Z"
    }
   },
   "cell_type": "code",
   "source": [
    "from core.libs import pd\n",
    "from core.db import get_engine\n",
    "from core.schema_helpers import rename_columns_using_schema\n",
    "from CruisesProcessor.general_importer import prepare_df_for_sql, save_inventory_to_sql, ensure_table\n",
    "from CruisesProcessor.dead_alive_calculator import calculate_dead_alive\n",
    "from core.doyle_calculator import calculate_doyle\n",
    "\n",
    "archivo = r\"C:\\Users\\HeyCe\\World Tree Technologies Inc\\Forest Inventory - Documentos\\Mexico\\2021_ForestInventory\\6-Database\\2021_Mexico_Database v1.0.xlsx\"\n",
    "sheet = 'TreeList_Data'"
   ],
   "id": "18415ae8bb71fc6",
   "outputs": [],
   "execution_count": 32
  },
  {
   "metadata": {
    "ExecuteTime": {
     "end_time": "2025-06-09T23:57:35.616994Z",
     "start_time": "2025-06-09T23:57:16.389400Z"
    }
   },
   "cell_type": "code",
   "source": [
    "#Leer el archivo\n",
    "df_original = pd.read_excel(archivo, sheet_name=sheet)\n",
    "print(\"📄 Columnas originales:\", list(df_original.columns))\n",
    "\n",
    "df = df_original.drop(columns=[\"DAP (cm)\", \"THt (m)\", \"MHt (m)\"], errors=\"ignore\")\n",
    "print(\"📄 Columnas actuales:  \", list(df.columns))\n",
    "\n",
    "# Mostrar diferencia\n",
    "eliminadas = set(df_original.columns) - set(df.columns)\n",
    "print(\"🗑️ Columnas eliminadas:\", eliminadas)\n",
    "df = rename_columns_using_schema(df)\n",
    "print(df.head(1))\n"
   ],
   "id": "548b983662ecd9a8",
   "outputs": [
    {
     "name": "stdout",
     "output_type": "stream",
     "text": [
      "📄 Columnas originales: ['FarmerCode', 'Contract', 'Property', 'PlantingYear', 'PropertyID', 'StandID', 'Plot#', 'TreeID', 'TPA_1/10ac', 'TreeStatus', 'DBH (in)', 'THt (ft)', 'MHt (ft)', 'DAP (cm)', 'THt (m)', 'MHt (m)', 'BA (sqft/ac)', 'BA_ac', 'VOL_m3', 'VOL_m3ac', 'MBF', 'MBF_ac']\n",
      "📄 Columnas actuales:   ['FarmerCode', 'Contract', 'Property', 'PlantingYear', 'PropertyID', 'StandID', 'Plot#', 'TreeID', 'TPA_1/10ac', 'TreeStatus', 'DBH (in)', 'THt (ft)', 'MHt (ft)', 'BA (sqft/ac)', 'BA_ac', 'VOL_m3', 'VOL_m3ac', 'MBF', 'MBF_ac']\n",
      "🗑️ Columnas eliminadas: {'THt (m)', 'MHt (m)', 'DAP (cm)'}\n",
      "   FarmerCode contractcode         farmername  PlantingYear  PropertyID  \\\n",
      "0     40003.0       MX0003  AnaPaulinaHurtado        2021.0         NaN   \n",
      "\n",
      "   StandID  plot  tree_number  TPA_1/10ac Status  dbh_in  tht_ft  merch_ht_ft  \\\n",
      "0      NaN   1.0          1.0        10.0   Live     1.0     1.0          NaN   \n",
      "\n",
      "   BA (sqft/ac)    BA_ac    VOL_m3  VOL_m3ac       MBF    MBF_ac  \n",
      "0      0.005454  0.05454  0.000347  0.003467  0.000084  0.000844  \n"
     ]
    }
   ],
   "execution_count": 38
  },
  {
   "metadata": {
    "ExecuteTime": {
     "end_time": "2025-06-09T23:57:35.747695Z",
     "start_time": "2025-06-09T23:57:35.625859Z"
    }
   },
   "cell_type": "code",
   "source": [
    "# CALCULADORES que faltaban:\n",
    "engine = get_engine()\n",
    "df = calculate_dead_alive(df, engine)\n",
    "df = calculate_doyle(df)"
   ],
   "id": "b2ee7b1c79966224",
   "outputs": [
    {
     "name": "stdout",
     "output_type": "stream",
     "text": [
      "💻 Conectado a la base de datos helloworldtree\n",
      "🌳 Doyle calculado\n"
     ]
    }
   ],
   "execution_count": 39
  },
  {
   "metadata": {
    "ExecuteTime": {
     "end_time": "2025-06-09T23:57:35.886781Z",
     "start_time": "2025-06-09T23:57:35.780199Z"
    }
   },
   "cell_type": "code",
   "source": [
    "df_sql, _ = prepare_df_for_sql(df)\n",
    "df_sql = df_sql.where(pd.notna(df_sql), None)\n",
    "\n",
    "# ← El segundo valor (dtypes) lo ignoramos\n",
    "tabla_destino = \"inventory_mx_2022\""
   ],
   "id": "8662c78cf414aa7f",
   "outputs": [],
   "execution_count": 40
  },
  {
   "metadata": {
    "ExecuteTime": {
     "end_time": "2025-06-09T23:57:36.053693Z",
     "start_time": "2025-06-09T23:57:35.917861Z"
    }
   },
   "cell_type": "code",
   "source": "ensure_table(df_sql, engine, tabla_destino)",
   "id": "bce6aad008e4f4aa",
   "outputs": [],
   "execution_count": 41
  },
  {
   "metadata": {
    "ExecuteTime": {
     "end_time": "2025-06-09T23:57:39.041319Z",
     "start_time": "2025-06-09T23:57:36.090059Z"
    }
   },
   "cell_type": "code",
   "source": [
    "save_inventory_to_sql(df_sql, engine, tabla_destino)\n",
    "\n"
   ],
   "id": "fdb6bdf94fd23389",
   "outputs": [
    {
     "name": "stdout",
     "output_type": "stream",
     "text": [
      "\n",
      "=== INICIO DE IMPORTACIÓN ===\n",
      "💻 Conectado a la base de datos helloworldtree\n",
      "✅ Bulk insert completado: \n",
      " 'inventory_mx_2022' (12432 filas)\n"
     ]
    }
   ],
   "execution_count": 42
  }
 ],
 "metadata": {
  "kernelspec": {
   "display_name": "Python 3",
   "language": "python",
   "name": "python3"
  },
  "language_info": {
   "codemirror_mode": {
    "name": "ipython",
    "version": 2
   },
   "file_extension": ".py",
   "mimetype": "text/x-python",
   "name": "python",
   "nbconvert_exporter": "python",
   "pygments_lexer": "ipython2",
   "version": "2.7.6"
  }
 },
 "nbformat": 4,
 "nbformat_minor": 5
}
