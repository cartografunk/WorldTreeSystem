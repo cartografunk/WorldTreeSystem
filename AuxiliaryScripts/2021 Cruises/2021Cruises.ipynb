{
 "cells": [
  {
   "metadata": {
    "ExecuteTime": {
     "end_time": "2025-07-04T22:44:13.596081Z",
     "start_time": "2025-07-04T22:44:13.561750Z"
    }
   },
   "cell_type": "code",
   "source": [
    "from core.libs import pd\n",
    "from core.db import get_engine\n",
    "from core.schema_helpers import rename_columns_using_schema\n",
    "from CruisesProcessor.general_importer import prepare_df_for_sql, save_inventory_to_sql, ensure_table\n",
    "from CruisesProcessor.dead_alive_calculator import calculate_dead_alive\n",
    "from CruisesProcessor.tree_id import split_by_id_validity\n",
    "from core.doyle_calculator import calculate_doyle\n",
    "\n",
    "# archivos = [\n",
    "#     r\"C:\\Users\\HeyCe\\World Tree Technologies Inc\\Forest Inventory - Documentos\\Costa Rica\\2021_ForestInventory\\7-Database\\Final\\CostaRica_Database_All v1.1.xlsx\",\n",
    "#     r\"C:\\Users\\HeyCe\\World Tree Technologies Inc\\Forest Inventory - Documentos\\Mexico\\2021_ForestInventory\\6-Database\\2021_Mexico_Database v1.0.xlsx\"\n",
    "#     ,\n",
    "#     r\"C:\\Users\\HeyCe\\World Tree Technologies Inc\\Forest Inventory - Documentos\\Guatemala\\2021_ForestInventory\\6-Database\\Database\\2021_Guatemala_Database v1.2.xlsx\",\n",
    "#     r\"C:\\Users\\HeyCe\\World Tree Technologies Inc\\Forest Inventory - Documentos\\USA\\2021_ForestInventory\\9-Database\\2021_US_Database v1.1.xlsx\"\n",
    "#     ]\n",
    "# tablas_destino = ['inventory_cr_2021','inventory_mx_2021','inventory_gt_2021', 'inventory_us_2021'  ]\n",
    "\n",
    "archivos = [\n",
    "    r\"C:\\Users\\HeyCe\\World Tree Technologies Inc\\Forest Inventory - Documentos\\USA\\2021_ForestInventory\\9-Database\\2021_US_Database v1.1.xlsx\"\n",
    "    ]\n",
    "tablas_destino = ['inventory_us_2021'  ]\n",
    "sheet = 'TreeList_Data'\n",
    "\n",
    "engine = get_engine()"
   ],
   "id": "18415ae8bb71fc6",
   "outputs": [
    {
     "name": "stdout",
     "output_type": "stream",
     "text": [
      "💻 Conectado a la base de datos helloworldtree\n"
     ]
    }
   ],
   "execution_count": 3
  },
  {
   "metadata": {
    "ExecuteTime": {
     "end_time": "2025-07-04T22:44:16.644208Z",
     "start_time": "2025-07-04T22:44:13.653790Z"
    }
   },
   "cell_type": "code",
   "source": [
    "for archivo, tabla_destino in zip(archivos, tablas_destino):\n",
    "    print(f\"🌲 Procesando {archivo} → {tabla_destino}\")\n",
    "    df = pd.read_excel(archivo,sheet_name=sheet)\n",
    "    df = df.drop(columns=[\"DAP (cm)\", \"THt (m)\", \"MHt (m)\"], errors=\"ignore\")\n",
    "    df = rename_columns_using_schema(df)\n",
    "\n",
    "    df = calculate_dead_alive(df, engine)\n",
    "    df = calculate_doyle(df)\n",
    "\n",
    "    df_ok, df_bad = split_by_id_validity(df)\n",
    "    df_sql, _ = prepare_df_for_sql(df_ok)\n",
    "    df_sql = df_sql.where(pd.notna(df_sql), None)\n",
    "    ensure_table(df_sql, engine, tabla_destino)\n",
    "    save_inventory_to_sql(df_sql, engine, tabla_destino)\n",
    "\n",
    "\n",
    "    print(\"Ahí va :D\")\n",
    "    #print(f\"  ✅ Guardado completado: {tabla_destino} ({len(df_sql)} filas)\\n\")\n"
   ],
   "id": "661b17a3682f1b5e",
   "outputs": [
    {
     "name": "stdout",
     "output_type": "stream",
     "text": [
      "🌲 Procesando C:\\Users\\HeyCe\\World Tree Technologies Inc\\Forest Inventory - Documentos\\USA\\2021_ForestInventory\\9-Database\\2021_US_Database v1.1.xlsx → inventory_us_2021\n",
      "🌳 Doyle recalculado\n",
      "🔑 PRIMARY KEY agregada en 'id'\n",
      "\n",
      "=== INICIO DE IMPORTACIÓN ===\n",
      "💻 Conectado a la base de datos helloworldtree\n",
      "✅ Bulk insert completado: \n",
      " 'inventory_us_2021' (4999 filas)\n",
      "Ahí va :D\n"
     ]
    }
   ],
   "execution_count": 4
  }
 ],
 "metadata": {
  "kernelspec": {
   "display_name": "Python 3",
   "language": "python",
   "name": "python3"
  },
  "language_info": {
   "codemirror_mode": {
    "name": "ipython",
    "version": 2
   },
   "file_extension": ".py",
   "mimetype": "text/x-python",
   "name": "python",
   "nbconvert_exporter": "python",
   "pygments_lexer": "ipython2",
   "version": "2.7.6"
  }
 },
 "nbformat": 4,
 "nbformat_minor": 5
}
