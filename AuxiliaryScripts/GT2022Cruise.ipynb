{
 "cells": [
  {
   "metadata": {},
   "cell_type": "code",
   "source": [
    "from core.libs import pd\n",
    "from core.db import get_engine\n",
    "from core.schema_helpers import rename_columns_using_schema\n",
    "from Cruises.general_importer import prepare_df_for_sql, save_inventory_to_sql, ensure_table\n",
    "from Cruises.dead_alive_calculator import calculate_dead_alive\n",
    "from core.doyle_calculator import calculate_doyle\n",
    "\n",
    "archivo = r\"C:\\Users\\HeyCe\\World Tree Technologies Inc\\Forest Inventory - Documentos\\Guatemala\\2021_ForestInventory\\6-Database\\Database\\2021_Guatemala_Database v1.2.xlsx\"\n",
    "sheet = 'TreeList_Data'"
   ],
   "id": "18415ae8bb71fc6",
   "outputs": [],
   "execution_count": null
  },
  {
   "metadata": {
    "ExecuteTime": {
     "end_time": "2025-06-10T00:19:33.022629Z",
     "start_time": "2025-06-10T00:19:30.011927Z"
    }
   },
   "cell_type": "code",
   "source": [
    "#Leer el archivo\n",
    "df_original = pd.read_excel(archivo, sheet_name=sheet)\n",
    "print(\"📄 Columnas originales:\", list(df_original.columns))\n",
    "\n",
    "df = df_original.drop(columns=[\"DAP (cm)\", \"THt (m)\", \"MHt (m)\"], errors=\"ignore\")\n",
    "print(\"📄 Columnas actuales:  \", list(df.columns))\n",
    "\n",
    "# Mostrar diferencia\n",
    "eliminadas = set(df_original.columns) - set(df.columns)\n",
    "print(\"🗑️ Columnas eliminadas:\", eliminadas)\n",
    "df = rename_columns_using_schema(df)\n",
    "print(df.head(1))\n"
   ],
   "id": "548b983662ecd9a8",
   "outputs": [
    {
     "name": "stdout",
     "output_type": "stream",
     "text": [
      "📄 Columnas originales: ['FarmerCode', 'Contract', 'Property', 'PlantingYear', 'PropertyID', 'StandID', 'Plot#', 'TreeID', 'TPA_1/10ac', 'TreeStatus', 'DBH (in)', 'THt (ft)', 'MHt (ft)', 'DAP (cm)', 'THt (m)', 'MHt (m)', 'BA (sqft/ac)', 'BA_ac', 'VOL_m3', 'VOL_m3ac', 'MBF', 'MBF_ac']\n",
      "📄 Columnas actuales:   ['FarmerCode', 'Contract', 'Property', 'PlantingYear', 'PropertyID', 'StandID', 'Plot#', 'TreeID', 'TPA_1/10ac', 'TreeStatus', 'DBH (in)', 'THt (ft)', 'MHt (ft)', 'BA (sqft/ac)', 'BA_ac', 'VOL_m3', 'VOL_m3ac', 'MBF', 'MBF_ac']\n",
      "🗑️ Columnas eliminadas: {'MHt (m)', 'THt (m)', 'DAP (cm)'}\n",
      "   FarmerCode contractcode  farmername  PlantingYear  PropertyID  StandID  \\\n",
      "0     30023.0       GT0024  JulioMoran        2020.0         NaN      NaN   \n",
      "\n",
      "   plot  tree_number  TPA_1/10ac Status    dbh_in   tht_ft  merch_ht_ft  \\\n",
      "0   1.0          1.0        10.0   Live  0.393701  3.28084          NaN   \n",
      "\n",
      "   BA (sqft/ac)     BA_ac    VOL_m3  VOL_m3ac      MBF    MBF_ac  \n",
      "0      0.000845  0.008454  0.000203  0.002033  0.00005  0.000495  \n"
     ]
    }
   ],
   "execution_count": 8
  },
  {
   "metadata": {
    "ExecuteTime": {
     "end_time": "2025-06-10T00:19:33.244486Z",
     "start_time": "2025-06-10T00:19:33.136185Z"
    }
   },
   "cell_type": "code",
   "source": [
    "# CALCULADORES que faltaban:\n",
    "engine = get_engine()\n",
    "df = calculate_dead_alive(df, engine)\n",
    "df = calculate_doyle(df)"
   ],
   "id": "b2ee7b1c79966224",
   "outputs": [
    {
     "name": "stdout",
     "output_type": "stream",
     "text": [
      "💻 Conectado a la base de datos helloworldtree\n",
      "🌳 Doyle calculado\n"
     ]
    }
   ],
   "execution_count": 9
  },
  {
   "metadata": {
    "ExecuteTime": {
     "end_time": "2025-06-10T00:19:36.876377Z",
     "start_time": "2025-06-10T00:19:36.806168Z"
    }
   },
   "cell_type": "code",
   "source": [
    "df_sql, _ = prepare_df_for_sql(df)\n",
    "df_sql = df_sql.where(pd.notna(df_sql), None)\n",
    "\n",
    "# ← El segundo valor (dtypes) lo ignoramos\n",
    "tabla_destino = \"inventory_gt_2022\""
   ],
   "id": "8662c78cf414aa7f",
   "outputs": [],
   "execution_count": 10
  },
  {
   "metadata": {
    "ExecuteTime": {
     "end_time": "2025-06-10T00:19:38.574187Z",
     "start_time": "2025-06-10T00:19:38.471377Z"
    }
   },
   "cell_type": "code",
   "source": "ensure_table(df_sql, engine, tabla_destino)",
   "id": "bce6aad008e4f4aa",
   "outputs": [
    {
     "name": "stdout",
     "output_type": "stream",
     "text": [
      "🔑 PRIMARY KEY agregada en 'id'\n"
     ]
    }
   ],
   "execution_count": 11
  },
  {
   "metadata": {
    "ExecuteTime": {
     "end_time": "2025-06-10T00:19:42.016377Z",
     "start_time": "2025-06-10T00:19:40.202083Z"
    }
   },
   "cell_type": "code",
   "source": [
    "save_inventory_to_sql(df_sql, engine, tabla_destino)\n",
    "\n"
   ],
   "id": "fdb6bdf94fd23389",
   "outputs": [
    {
     "name": "stdout",
     "output_type": "stream",
     "text": [
      "\n",
      "=== INICIO DE IMPORTACIÓN ===\n",
      "💻 Conectado a la base de datos helloworldtree\n",
      "✅ Bulk insert completado: \n",
      " 'inventory_gt_2022' (7839 filas)\n"
     ]
    }
   ],
   "execution_count": 12
  }
 ],
 "metadata": {
  "kernelspec": {
   "display_name": "Python 3",
   "language": "python",
   "name": "python3"
  },
  "language_info": {
   "codemirror_mode": {
    "name": "ipython",
    "version": 2
   },
   "file_extension": ".py",
   "mimetype": "text/x-python",
   "name": "python",
   "nbconvert_exporter": "python",
   "pygments_lexer": "ipython2",
   "version": "2.7.6"
  }
 },
 "nbformat": 4,
 "nbformat_minor": 5
}
