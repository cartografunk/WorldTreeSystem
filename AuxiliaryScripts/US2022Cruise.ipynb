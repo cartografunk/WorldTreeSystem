{
 "cells": [
  {
   "metadata": {
    "ExecuteTime": {
     "end_time": "2025-06-06T21:47:56.125944Z",
     "start_time": "2025-06-06T21:47:55.980303Z"
    }
   },
   "cell_type": "code",
   "source": [
    "from core.libs import pd\n",
    "from core.db import get_engine\n",
    "from core.schema_helpers import rename_columns_using_schema\n",
    "from Cruises.general_importer import prepare_df_for_sql, save_inventory_to_sql\n",
    "from Cruises.dead_alive_calculator import calculate_dead_alive\n",
    "from core.doyle_calculator import calculate_doyle\n",
    "\n",
    "archivo = r\"D:\\OneDrive Local\\OneDrive - World Tree Technologies Inc\\Forest Inventory - Documentos\\USA\\2021_ForestInventory\\9-Database\\2021_US_Database v1.1.xlsx\"\n",
    "sheet = 'TreeList_Data'"
   ],
   "id": "18415ae8bb71fc6",
   "outputs": [],
   "execution_count": 5
  },
  {
   "metadata": {
    "ExecuteTime": {
     "end_time": "2025-06-06T21:48:19.007399Z",
     "start_time": "2025-06-06T21:48:15.510660Z"
    }
   },
   "cell_type": "code",
   "source": [
    "#Leer el archivo\n",
    "df = pd.read_excel(archivo, sheet_name=sheet)\n",
    "df = rename_columns_using_schema(df)\n"
   ],
   "id": "548b983662ecd9a8",
   "outputs": [],
   "execution_count": 7
  },
  {
   "metadata": {
    "ExecuteTime": {
     "end_time": "2025-06-06T21:49:57.224214Z",
     "start_time": "2025-06-06T21:49:57.206298Z"
    }
   },
   "cell_type": "code",
   "source": "print(df.head())",
   "id": "d50947576ecbfc07",
   "outputs": [
    {
     "name": "stdout",
     "output_type": "stream",
     "text": [
      "   FarmerCode contractcode   farmername  PlantingYear  PropertyID  plot  \\\n",
      "0       10001       US0004  BruceGamble          2016         NaN     1   \n",
      "1       10001       US0004  BruceGamble          2016         NaN     1   \n",
      "2       10001       US0004  BruceGamble          2016         NaN     1   \n",
      "3       10001       US0004  BruceGamble          2016         NaN     1   \n",
      "4       10001       US0004  BruceGamble          2016         NaN     1   \n",
      "\n",
      "   tree_number  TPA_1/10ac      Status  dbh_in  tht_ft  merch_ht_ft  dbh_in  \\\n",
      "0            1        10.0  Suppressed     2.0     NaN          NaN   5.080   \n",
      "1            2        10.0        Live     5.4    18.0          8.0  13.716   \n",
      "2            3        10.0        Live     6.5    25.0          8.0  16.510   \n",
      "3            4        10.0        Live     6.5    25.0         10.0  16.510   \n",
      "4            5        10.0     Missing     NaN     NaN          NaN     NaN   \n",
      "\n",
      "   tht_ft  merch_ht_ft  BA (sqft/ac)     BA_ac    VOL_m3  VOL_m3ac       MBF  \\\n",
      "0     NaN          NaN      0.021816  0.218160       NaN       NaN       NaN   \n",
      "1  5.4864       2.4384      0.159039  1.590386  0.048571  0.485714  0.011830   \n",
      "2  7.6200       2.4384      0.230431  2.304315  0.084340  0.843404  0.020541   \n",
      "3  7.6200       3.0480      0.230431  2.304315  0.084340  0.843404  0.020541   \n",
      "4     NaN          NaN           NaN       NaN       NaN       NaN       NaN   \n",
      "\n",
      "     MBF_ac  dead_tree  alive_tree  \n",
      "0       NaN          1           0  \n",
      "1  0.118295          0           1  \n",
      "2  0.205410          0           1  \n",
      "3  0.205410          0           1  \n",
      "4       NaN          1           0  \n"
     ]
    }
   ],
   "execution_count": 9
  },
  {
   "metadata": {
    "ExecuteTime": {
     "end_time": "2025-06-06T21:48:47.136809Z",
     "start_time": "2025-06-06T21:48:45.496378Z"
    }
   },
   "cell_type": "code",
   "source": [
    "# CALCULADORES que faltaban:\n",
    "engine = get_engine()\n",
    "df = calculate_dead_alive(df, engine)\n",
    "df = calculate_doyle(df)"
   ],
   "id": "b2ee7b1c79966224",
   "outputs": [
    {
     "name": "stdout",
     "output_type": "stream",
     "text": [
      "💻 Conectado a la base de datos helloworldtree\n"
     ]
    },
    {
     "ename": "TypeError",
     "evalue": "arg must be a list, tuple, 1-d array, or Series",
     "output_type": "error",
     "traceback": [
      "\u001B[1;31m---------------------------------------------------------------------------\u001B[0m",
      "\u001B[1;31mTypeError\u001B[0m                                 Traceback (most recent call last)",
      "Cell \u001B[1;32mIn[8], line 4\u001B[0m\n\u001B[0;32m      2\u001B[0m engine \u001B[38;5;241m=\u001B[39m get_engine()\n\u001B[0;32m      3\u001B[0m df \u001B[38;5;241m=\u001B[39m calculate_dead_alive(df, engine)\n\u001B[1;32m----> 4\u001B[0m df \u001B[38;5;241m=\u001B[39m \u001B[43mcalculate_doyle\u001B[49m\u001B[43m(\u001B[49m\u001B[43mdf\u001B[49m\u001B[43m)\u001B[49m\n",
      "File \u001B[1;32mD:\\LOCAL\\WorldTreeSystem\\core\\doyle_calculator.py:12\u001B[0m, in \u001B[0;36mcalculate_doyle\u001B[1;34m(df)\u001B[0m\n\u001B[0;32m      9\u001B[0m dbh_col \u001B[38;5;241m=\u001B[39m get_column(\u001B[38;5;124m\"\u001B[39m\u001B[38;5;124mDBH (in)\u001B[39m\u001B[38;5;124m\"\u001B[39m, df)\n\u001B[0;32m     10\u001B[0m tht_col \u001B[38;5;241m=\u001B[39m get_column(\u001B[38;5;124m\"\u001B[39m\u001B[38;5;124mTHT (ft)\u001B[39m\u001B[38;5;124m\"\u001B[39m, df)\n\u001B[1;32m---> 12\u001B[0m df[\u001B[38;5;124m\"\u001B[39m\u001B[38;5;124mDBH (in)\u001B[39m\u001B[38;5;124m\"\u001B[39m] \u001B[38;5;241m=\u001B[39m \u001B[43mpd\u001B[49m\u001B[38;5;241;43m.\u001B[39;49m\u001B[43mto_numeric\u001B[49m\u001B[43m(\u001B[49m\u001B[43mdf\u001B[49m\u001B[43m[\u001B[49m\u001B[43mdbh_col\u001B[49m\u001B[43m]\u001B[49m\u001B[43m,\u001B[49m\u001B[43m \u001B[49m\u001B[43merrors\u001B[49m\u001B[38;5;241;43m=\u001B[39;49m\u001B[38;5;124;43m'\u001B[39;49m\u001B[38;5;124;43mcoerce\u001B[39;49m\u001B[38;5;124;43m'\u001B[39;49m\u001B[43m)\u001B[49m\n\u001B[0;32m     13\u001B[0m df[\u001B[38;5;124m\"\u001B[39m\u001B[38;5;124mTHT (ft)\u001B[39m\u001B[38;5;124m\"\u001B[39m] \u001B[38;5;241m=\u001B[39m pd\u001B[38;5;241m.\u001B[39mto_numeric(df[tht_col], errors\u001B[38;5;241m=\u001B[39m\u001B[38;5;124m'\u001B[39m\u001B[38;5;124mcoerce\u001B[39m\u001B[38;5;124m'\u001B[39m)\n\u001B[0;32m     14\u001B[0m df[\u001B[38;5;124m\"\u001B[39m\u001B[38;5;124mdoyle_bf\u001B[39m\u001B[38;5;124m\"\u001B[39m] \u001B[38;5;241m=\u001B[39m ((df[\u001B[38;5;124m\"\u001B[39m\u001B[38;5;124mDBH (in)\u001B[39m\u001B[38;5;124m\"\u001B[39m] \u001B[38;5;241m-\u001B[39m \u001B[38;5;241m4\u001B[39m) \u001B[38;5;241m*\u001B[39m\u001B[38;5;241m*\u001B[39m \u001B[38;5;241m2\u001B[39m) \u001B[38;5;241m*\u001B[39m (df[\u001B[38;5;124m\"\u001B[39m\u001B[38;5;124mTHT (ft)\u001B[39m\u001B[38;5;124m\"\u001B[39m] \u001B[38;5;241m/\u001B[39m \u001B[38;5;241m16\u001B[39m)\n",
      "File \u001B[1;32mD:\\MinicondaEnv\\envs\\WorldTreeSystem\\lib\\site-packages\\pandas\\core\\tools\\numeric.py:206\u001B[0m, in \u001B[0;36mto_numeric\u001B[1;34m(arg, errors, downcast, dtype_backend)\u001B[0m\n\u001B[0;32m    204\u001B[0m     values \u001B[38;5;241m=\u001B[39m np\u001B[38;5;241m.\u001B[39marray([arg], dtype\u001B[38;5;241m=\u001B[39m\u001B[38;5;124m\"\u001B[39m\u001B[38;5;124mO\u001B[39m\u001B[38;5;124m\"\u001B[39m)\n\u001B[0;32m    205\u001B[0m \u001B[38;5;28;01melif\u001B[39;00m \u001B[38;5;28mgetattr\u001B[39m(arg, \u001B[38;5;124m\"\u001B[39m\u001B[38;5;124mndim\u001B[39m\u001B[38;5;124m\"\u001B[39m, \u001B[38;5;241m1\u001B[39m) \u001B[38;5;241m>\u001B[39m \u001B[38;5;241m1\u001B[39m:\n\u001B[1;32m--> 206\u001B[0m     \u001B[38;5;28;01mraise\u001B[39;00m \u001B[38;5;167;01mTypeError\u001B[39;00m(\u001B[38;5;124m\"\u001B[39m\u001B[38;5;124marg must be a list, tuple, 1-d array, or Series\u001B[39m\u001B[38;5;124m\"\u001B[39m)\n\u001B[0;32m    207\u001B[0m \u001B[38;5;28;01melse\u001B[39;00m:\n\u001B[0;32m    208\u001B[0m     values \u001B[38;5;241m=\u001B[39m arg\n",
      "\u001B[1;31mTypeError\u001B[0m: arg must be a list, tuple, 1-d array, or Series"
     ]
    }
   ],
   "execution_count": 8
  },
  {
   "metadata": {},
   "cell_type": "code",
   "outputs": [],
   "execution_count": null,
   "source": [
    "engine = get_engine()\n",
    "\n",
    "tabla_destino = \"inventory_us_2022\"\n",
    "\n",
    "save_inventory_to_sql(engine, tabla_destino, df_sql)"
   ],
   "id": "fdb6bdf94fd23389"
  }
 ],
 "metadata": {
  "kernelspec": {
   "display_name": "Python 3",
   "language": "python",
   "name": "python3"
  },
  "language_info": {
   "codemirror_mode": {
    "name": "ipython",
    "version": 2
   },
   "file_extension": ".py",
   "mimetype": "text/x-python",
   "name": "python",
   "nbconvert_exporter": "python",
   "pygments_lexer": "ipython2",
   "version": "2.7.6"
  }
 },
 "nbformat": 4,
 "nbformat_minor": 5
}
