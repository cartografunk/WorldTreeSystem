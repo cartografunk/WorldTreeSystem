{
 "cells": [
  {
   "metadata": {
    "ExecuteTime": {
     "end_time": "2025-06-09T23:47:00.321965Z",
     "start_time": "2025-06-09T23:46:57.430167Z"
    }
   },
   "cell_type": "code",
   "source": [
    "from core.libs import pd\n",
    "from core.db import get_engine\n",
    "from core.schema_helpers import rename_columns_using_schema\n",
    "from Cruises.general_importer import prepare_df_for_sql, save_inventory_to_sql, ensure_table\n",
    "from Cruises.dead_alive_calculator import calculate_dead_alive\n",
    "from core.doyle_calculator import calculate_doyle\n",
    "\n",
    "archivo = r\"C:\\Users\\HeyCe\\World Tree Technologies Inc\\Forest Inventory - Documentos\\USA\\2021_ForestInventory\\9-Database\\2021_US_Database v1.1.xlsx\"\n",
    "sheet = 'TreeList_Data'"
   ],
   "id": "18415ae8bb71fc6",
   "outputs": [],
   "execution_count": 1
  },
  {
   "metadata": {
    "ExecuteTime": {
     "end_time": "2025-06-09T23:47:02.277047Z",
     "start_time": "2025-06-09T23:47:00.329159Z"
    }
   },
   "cell_type": "code",
   "source": [
    "#Leer el archivo\n",
    "df_original = pd.read_excel(archivo, sheet_name=sheet)\n",
    "print(\"📄 Columnas originales:\", list(df_original.columns))\n",
    "\n",
    "df = df_original.drop(columns=[\"DAP (cm)\", \"THt (m)\", \"MHt (m)\"], errors=\"ignore\")\n",
    "print(\"📄 Columnas actuales:  \", list(df.columns))\n",
    "\n",
    "# Mostrar diferencia\n",
    "eliminadas = set(df_original.columns) - set(df.columns)\n",
    "print(\"🗑️ Columnas eliminadas:\", eliminadas)\n",
    "df = rename_columns_using_schema(df)\n",
    "print(df.head(1))\n"
   ],
   "id": "548b983662ecd9a8",
   "outputs": [
    {
     "name": "stdout",
     "output_type": "stream",
     "text": [
      "📄 Columnas originales: ['FarmerCode', 'Contract', 'Property', 'PlantingYear', 'PropertyID', 'Plot#', 'TreeID', 'TPA_1/10ac', 'TreeStatus', 'DBH (in)', 'THt (ft)', 'MHt (ft)', 'DAP (cm)', 'THt (m)', 'MHt (m)', 'BA (sqft/ac)', 'BA_ac', 'VOL_m3', 'VOL_m3ac', 'MBF', 'MBF_ac']\n",
      "📄 Columnas actuales:   ['FarmerCode', 'Contract', 'Property', 'PlantingYear', 'PropertyID', 'Plot#', 'TreeID', 'TPA_1/10ac', 'TreeStatus', 'DBH (in)', 'THt (ft)', 'MHt (ft)', 'BA (sqft/ac)', 'BA_ac', 'VOL_m3', 'VOL_m3ac', 'MBF', 'MBF_ac']\n",
      "🗑️ Columnas eliminadas: {'DAP (cm)', 'MHt (m)', 'THt (m)'}\n",
      "   FarmerCode contractcode   farmername  PlantingYear  PropertyID  plot  \\\n",
      "0       10001       US0004  BruceGamble          2016         NaN     1   \n",
      "\n",
      "   tree_number  TPA_1/10ac      Status  dbh_in  tht_ft  merch_ht_ft  \\\n",
      "0            1        10.0  Suppressed     2.0     NaN          NaN   \n",
      "\n",
      "   BA (sqft/ac)    BA_ac  VOL_m3  VOL_m3ac  MBF  MBF_ac  \n",
      "0      0.021816  0.21816     NaN       NaN  NaN     NaN  \n"
     ]
    }
   ],
   "execution_count": 2
  },
  {
   "metadata": {
    "ExecuteTime": {
     "end_time": "2025-06-09T23:47:02.881307Z",
     "start_time": "2025-06-09T23:47:02.703464Z"
    }
   },
   "cell_type": "code",
   "source": [
    "# CALCULADORES que faltaban:\n",
    "engine = get_engine()\n",
    "df = calculate_dead_alive(df, engine)\n",
    "df = calculate_doyle(df)"
   ],
   "id": "b2ee7b1c79966224",
   "outputs": [
    {
     "name": "stdout",
     "output_type": "stream",
     "text": [
      "💻 Conectado a la base de datos helloworldtree\n",
      "🌳 Doyle calculado\n"
     ]
    }
   ],
   "execution_count": 3
  },
  {
   "metadata": {
    "ExecuteTime": {
     "end_time": "2025-06-09T23:47:02.997421Z",
     "start_time": "2025-06-09T23:47:02.907496Z"
    }
   },
   "cell_type": "code",
   "source": [
    "engine = get_engine()\n",
    "df_sql, _ = prepare_df_for_sql(df)\n",
    "df_sql = df_sql.where(pd.notna(df_sql), None)\n",
    "\n",
    "# ← El segundo valor (dtypes) lo ignoramos\n",
    "tabla_destino = \"inventory_us_2022\""
   ],
   "id": "8662c78cf414aa7f",
   "outputs": [
    {
     "name": "stdout",
     "output_type": "stream",
     "text": [
      "💻 Conectado a la base de datos helloworldtree\n"
     ]
    }
   ],
   "execution_count": 4
  },
  {
   "metadata": {
    "ExecuteTime": {
     "end_time": "2025-06-09T23:47:03.594504Z",
     "start_time": "2025-06-09T23:47:03.093818Z"
    }
   },
   "cell_type": "code",
   "source": "ensure_table(df_sql, engine, tabla_destino)",
   "id": "bce6aad008e4f4aa",
   "outputs": [
    {
     "name": "stdout",
     "output_type": "stream",
     "text": [
      "🔑 PRIMARY KEY agregada en 'id'\n"
     ]
    }
   ],
   "execution_count": 5
  },
  {
   "metadata": {
    "ExecuteTime": {
     "end_time": "2025-06-09T23:47:05.661129Z",
     "start_time": "2025-06-09T23:47:03.623524Z"
    }
   },
   "cell_type": "code",
   "source": [
    "save_inventory_to_sql(df_sql, engine, tabla_destino)\n",
    "\n"
   ],
   "id": "fdb6bdf94fd23389",
   "outputs": [
    {
     "name": "stdout",
     "output_type": "stream",
     "text": [
      "\n",
      "=== INICIO DE IMPORTACIÓN ===\n",
      "💻 Conectado a la base de datos helloworldtree\n",
      "✅ Bulk insert completado: \n",
      " 'inventory_us_2022' (4999 filas)\n"
     ]
    }
   ],
   "execution_count": 6
  }
 ],
 "metadata": {
  "kernelspec": {
   "display_name": "Python 3",
   "language": "python",
   "name": "python3"
  },
  "language_info": {
   "codemirror_mode": {
    "name": "ipython",
    "version": 2
   },
   "file_extension": ".py",
   "mimetype": "text/x-python",
   "name": "python",
   "nbconvert_exporter": "python",
   "pygments_lexer": "ipython2",
   "version": "2.7.6"
  }
 },
 "nbformat": 4,
 "nbformat_minor": 5
}
