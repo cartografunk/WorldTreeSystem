{
 "cells": [
  {
   "cell_type": "code",
   "id": "initial_id",
   "metadata": {
    "collapsed": true,
    "ExecuteTime": {
     "end_time": "2025-05-27T20:11:43.715187Z",
     "start_time": "2025-05-27T20:11:43.705302Z"
    }
   },
   "source": [
    "from core.libs import Path, openpyxl, os, pd\n",
    "from tqdm import tqdm\n",
    "import warnings\n",
    "\n",
    "warnings.filterwarnings(\"ignore\", category=UserWarning, module=\"openpyxl\")\n",
    "\n",
    "# Ruta base (ajústala según tu país/año/lote)\n",
    "BASE_PATH = Path(r\"D:\\OneDrive Local\\OneDrive - World Tree Technologies Inc\\Forest Inventory - Documentos\\USA\\2024_ForestInventoryQ1_25\")"
   ],
   "outputs": [],
   "execution_count": 7
  },
  {
   "metadata": {
    "ExecuteTime": {
     "end_time": "2025-05-27T20:11:46.082660Z",
     "start_time": "2025-05-27T20:11:46.050708Z"
    }
   },
   "cell_type": "code",
   "source": [
    "# Acumular errores\n",
    "errores = []\n",
    "\n",
    "# Buscar todos los .xlsx recursivamente\n",
    "xlsx_files = list(BASE_PATH.rglob(\"*.xlsx\"))"
   ],
   "id": "7c3bd129259ccf8d",
   "outputs": [],
   "execution_count": 8
  },
  {
   "metadata": {
    "ExecuteTime": {
     "end_time": "2025-05-27T20:12:06.869Z",
     "start_time": "2025-05-27T20:11:47.648483Z"
    }
   },
   "cell_type": "code",
   "source": [
    "for file in tqdm(xlsx_files, desc=\"📂 Scanning OneDrive files\"):\n",
    "    try:\n",
    "        wb = openpyxl.load_workbook(file, data_only=True)\n",
    "        if \"Summary\" not in wb.sheetnames:\n",
    "            errores.append((file, \"❌ Missing 'Summary' sheet\"))\n",
    "            continue\n",
    "\n",
    "        sheet = wb[\"Summary\"]\n",
    "        d3_value = sheet[\"D3\"].value\n",
    "\n",
    "        if not d3_value or not isinstance(d3_value, str) or d3_value.strip().lower() == \"contract code\":\n",
    "            errores.append((file, f\"⚠️ Invalid value in D3: '{d3_value}'\"))\n",
    "\n",
    "    except Exception as e:\n",
    "        errores.append((file, f\"💥 Error reading file: {e}\"))\n",
    "\n"
   ],
   "id": "dbbda40ee20d80d6",
   "outputs": [
    {
     "name": "stderr",
     "output_type": "stream",
     "text": [
      "📂 Scanning OneDrive files: 100%|██████████| 64/64 [00:19<00:00,  3.33it/s]\n"
     ]
    }
   ],
   "execution_count": 9
  },
  {
   "metadata": {
    "ExecuteTime": {
     "end_time": "2025-05-27T20:12:09.515528Z",
     "start_time": "2025-05-27T20:12:09.459176Z"
    }
   },
   "cell_type": "code",
   "source": [
    "# Crear DataFrame\n",
    "df = pd.DataFrame([\n",
    "    {\n",
    "        \"Error\": msg,\n",
    "        \"Filename\": Path(path).name,\n",
    "        \"Directory Path\": str(Path(path).parent)\n",
    "    }\n",
    "    for path, msg in errores\n",
    "])\n",
    "\n",
    "# Guardar como Excel\n",
    "output_path = Path.cwd() / \"malformed_d3a_entries.xlsx\"\n",
    "df.to_excel(output_path, index=False)\n",
    "\n",
    "print(f\"\\n✅ Report saved to: {output_path}\")"
   ],
   "id": "3134f2b4cd0188c0",
   "outputs": [
    {
     "name": "stdout",
     "output_type": "stream",
     "text": [
      "\n",
      "✅ Report saved to: D:\\LOCAL\\WorldTreeSystem\\AuxiliaryScripts\\malformed_d3a_entries.xlsx\n"
     ]
    }
   ],
   "execution_count": 10
  }
 ],
 "metadata": {
  "kernelspec": {
   "display_name": "Python 3",
   "language": "python",
   "name": "python3"
  },
  "language_info": {
   "codemirror_mode": {
    "name": "ipython",
    "version": 2
   },
   "file_extension": ".py",
   "mimetype": "text/x-python",
   "name": "python",
   "nbconvert_exporter": "python",
   "pygments_lexer": "ipython2",
   "version": "2.7.6"
  }
 },
 "nbformat": 4,
 "nbformat_minor": 5
}
