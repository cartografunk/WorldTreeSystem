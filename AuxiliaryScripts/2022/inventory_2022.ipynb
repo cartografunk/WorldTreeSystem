{
 "cells": [
  {
   "cell_type": "code",
   "id": "f0d26b4b0c96cc31",
   "metadata": {
    "ExecuteTime": {
     "end_time": "2025-06-25T22:43:03.254829Z",
     "start_time": "2025-06-25T22:42:56.741059Z"
    }
   },
   "source": [
    "#Inventory 2022 auxiliar Cruise Processor\n",
    "#Libraries\n",
    "from core.libs import pd, tqdm, Path, json, re\n",
    "from core.paths import resolve_inventory_paths"
   ],
   "outputs": [],
   "execution_count": 1
  },
  {
   "metadata": {},
   "cell_type": "code",
   "source": [
    "# Inventory 2022 auxiliar Cruise Processor\n",
    "from core.libs import pd, tqdm, Path, re\n",
    "\n",
    "# --- Carga el cheatsheet filtrado ---\n",
    "cheatsheet_path = r\"C:\\Users\\HeyCe\\World Tree Technologies Inc\\Forest Inventory - Documentos\\USA\\2022_ForestInventory\\8-ForestMetrix_Projects\\inventory_us_2022_cheatsheet.csv\"\n",
    "df_cheat = pd.read_csv(cheatsheet_path)\n",
    "\n",
    "df_valid = df_cheat[\n",
    "    (df_cheat[\"TreeFilePath\"].notna()) &\n",
    "    (df_cheat[\"TreeFilePath\"] != \"NA\") &\n",
    "    (df_cheat[\"case\"].str.lower() != \"missing\")\n",
    "].copy()\n",
    "\n",
    "print(f\"Archivos válidos a procesar: {len(df_valid)}\")\n",
    "\n",
    "def pick_sheet(excel_file):\n",
    "    sheets = pd.ExcelFile(excel_file).sheet_names\n",
    "    for sheet in sheets:\n",
    "        if sheet.lower().strip() in (\"input\", \"sheet1\"):\n",
    "            return sheet\n",
    "    return sheets[0]\n",
    "\n",
    "frames = []\n",
    "for idx, row in tqdm(df_valid.iterrows(), total=len(df_valid), desc=\"Leyendo archivos\"):\n",
    "    excel_path = Path(row[\"TreeFilePath\"])\n",
    "    contract_code = row[\"contractcode\"]\n",
    "    cruise_date = row[\"inventory_date\"]\n",
    "    try:\n",
    "        sheet = pick_sheet(excel_path)\n",
    "        df = pd.read_excel(excel_path, sheet_name=sheet)\n",
    "        df.columns = [str(c).strip() for c in df.columns]\n",
    "        df['archivo_origen'] = str(excel_path)\n",
    "        df['contractcode'] = contract_code\n",
    "        df['cruise_date'] = cruise_date\n",
    "        frames.append(df)\n",
    "    except Exception as e:\n",
    "        print(f\"Error en {excel_path}: {e}\")\n",
    "\n",
    "if not frames:\n",
    "    raise Exception(\"❌ Ningún archivo pudo ser leído correctamente.\")\n",
    "\n",
    "df_all = pd.concat(frames, ignore_index=True)\n",
    "df_all = df_all.dropna(axis=1, how='all')\n",
    "\n",
    "print(df_all.head(5))"
   ],
   "id": "44704d76e7adbf71",
   "outputs": [],
   "execution_count": null
  },
  {
   "metadata": {
    "collapsed": true,
    "ExecuteTime": {
     "end_time": "2025-06-26T23:41:25.038816Z",
     "start_time": "2025-06-26T23:41:24.958098Z"
    }
   },
   "cell_type": "code",
   "source": [
    "# --- Exporta el CSV final ---\n",
    "output = Path(r\"C:\\Users\\HeyCe\\World Tree Technologies Inc\\Forest Inventory - Documentos\\USA\\2022_ForestInventory\\inventory_us_2022_concentrado.csv\")\n",
    "df_all.to_csv(output, index=False)\n",
    "\n",
    "#print(f\"\\n✅ CSV concentrado generado en:\\n{output}\")\n",
    "print(f\"Columnas: {list(df_all.columns)}\")\n",
    "print(f\"Filas: {len(df_all)}\")\n"
   ],
   "id": "initial_id",
   "outputs": [
    {
     "name": "stdout",
     "output_type": "stream",
     "text": [
      "Columnas: ['Stands::StandNumber', 'Points::PointNumber', 'GradingsSerialNumberAtPoint', 'Tree_ID', 'Points::WT Permanent', 'WT Status', 'WT Species', 'WT Leaf', 'WT Defect', 'WT DHT', 'WT DBH', 'WT THT', 'WT MHT', 'WT Pests', 'jenkinsTotalAgBiomassGREEN', 'GradingsComment', 'Preferences::WorldTreePrefsInventoryType', 'Preferences::WorldTreeUnits', 'Preferences::prefsFileName', 'archivo_origen', 'contractcode', 'cruise_date', 'Unnamed: 0', 'Unnamed: 1', 'Unnamed: 2', 'Unnamed: 3', 'Unnamed: 4', 'Unnamed: 5', 'Unnamed: 6', 'Unnamed: 7', 'Unnamed: 8', 'Unnamed: 9', 'Unnamed: 10', 'Unnamed: 11', 'Unnamed: 12', 'Unnamed: 13', 'Unnamed: 14', 'Unnamed: 15', 'Unnamed: 16', 'Unnamed: 17', 'Unnamed: 18', 'Unnamed: 19', 'Unnamed: 20', 'Unnamed: 21', 'Unnamed: 22', 'Unnamed: 23', 'Unnamed: 24', 'x', 'x.1', 'x.2', 'x.3', 'x.4', 'x.5', 'x.6', 'x.7', 'x.8', 'x.9', 'Unnamed: 35', 'Unnamed: 36', 'Unnamed: 37', 'Unnamed: 38', 'Unnamed: 39', 'Unnamed: 41']\n",
      "Filas: 2850\n"
     ]
    }
   ],
   "execution_count": 2
  },
  {
   "metadata": {
    "ExecuteTime": {
     "end_time": "2025-06-27T00:15:45.800223Z",
     "start_time": "2025-06-27T00:15:45.788871Z"
    }
   },
   "cell_type": "code",
   "source": "#Lo limpié manualmente porque era más fácil lol",
   "id": "98038a5bbd7c08d1",
   "outputs": [],
   "execution_count": 3
  },
  {
   "metadata": {
    "ExecuteTime": {
     "end_time": "2025-06-27T21:56:53.233261Z",
     "start_time": "2025-06-27T21:56:53.172263Z"
    }
   },
   "cell_type": "code",
   "source": [
    "from core.libs import pd\n",
    "from core.schema_helpers import rename_columns_using_schema\n",
    "from CruisesProcessor.general_processing import process_inventory_dataframe\n",
    "from CruisesProcessor.general_importer import prepare_df_for_sql, save_inventory_to_sql\n",
    "from core.db import get_engine\n",
    "\n",
    "# 1. Lee el CSV limpio (solo columnas de texto, nunca _id)\n",
    "df = pd.read_csv(r\"C:\\Users\\HeyCe\\World Tree Technologies Inc\\Forest Inventory - Documentos\\USA\\2022_ForestInventory\\inventory_us_2022_concentrado2.csv\")\n",
    "df = rename_columns_using_schema(df)\n",
    "\n",
    "# 2. (Opcional pero recomendable) QA: asegúrate de tener las columnas crudas de catálogo\n",
    "for col in [\"Defect\", \"Species\", \"Pests\", \"Status\"]:\n",
    "    if col not in df.columns:\n",
    "        print(f\"⚠️ WARNING: '{col}' no está, se agrega vacía.\")\n",
    "        df[col] = pd.NA\n",
    "for c in [\"defect_id\", \"species_id\", \"pests_id\", \"status_id\"]:\n",
    "    if c in df.columns:\n",
    "        print(f\"🧹 Eliminando columna '{c}' previa.\")\n",
    "        df = df.drop(columns=[c])"
   ],
   "id": "7e47fa4d4638c708",
   "outputs": [],
   "execution_count": 5
  },
  {
   "metadata": {
    "ExecuteTime": {
     "end_time": "2025-06-27T21:56:55.986864Z",
     "start_time": "2025-06-27T21:56:55.967128Z"
    }
   },
   "cell_type": "code",
   "source": "print(df.head(5))",
   "id": "1a41539b426a24e1",
   "outputs": [
    {
     "name": "stdout",
     "output_type": "stream",
     "text": [
      "   stand  plot  tree_number       Tree_ID Points::WT Permanent  Status  \\\n",
      "0    1.0   1.0          1.0  6.220000e+20                  NaN  1 Live   \n",
      "1    1.0   1.0          2.0  7.190430e+15                  NaN  1 Live   \n",
      "2    1.0   1.0          3.0  5.470000e+19                  NaN  1 Live   \n",
      "3    1.0   1.0          4.0  1.280000e+19                  NaN  1 Live   \n",
      "4    1.0   1.0          5.0  1.660000e+24                  NaN  1 Live   \n",
      "\n",
      "  Species    WT Leaf Defect  WT DHT  dbh_in  tht_ft  merch_ht_ft Pests  \\\n",
      "0   CL502  4 76-100%    NaN     NaN     NaN     2.0          NaN   NaN   \n",
      "1   CL502  4 76-100%    NaN     NaN     NaN     1.0          NaN   NaN   \n",
      "2   CL502  4 76-100%    NaN     NaN     NaN     1.0          NaN   NaN   \n",
      "3   CL502  4 76-100%    NaN     NaN     NaN     2.0          NaN   NaN   \n",
      "4   CL502  4 76-100%    NaN     NaN     NaN     0.5          NaN   NaN   \n",
      "\n",
      "  jenkinsTotalAgBiomassGREEN short_note  \\\n",
      "0                          ?        NaN   \n",
      "1                          ?        NaN   \n",
      "2                          ?        NaN   \n",
      "3                          ?        NaN   \n",
      "4                          ?        NaN   \n",
      "\n",
      "  Preferences::WorldTreePrefsInventoryType Preferences::WorldTreeUnits  \\\n",
      "0                                 Estimate                    Imperial   \n",
      "1                                 Estimate                    Imperial   \n",
      "2                                 Estimate                    Imperial   \n",
      "3                                 Estimate                    Imperial   \n",
      "4                                 Estimate                    Imperial   \n",
      "\n",
      "      Preferences::prefsFileName  \\\n",
      "0  US0128_US_2022_Ashley Daniels   \n",
      "1  US0128_US_2022_Ashley Daniels   \n",
      "2  US0128_US_2022_Ashley Daniels   \n",
      "3  US0128_US_2022_Ashley Daniels   \n",
      "4  US0128_US_2022_Ashley Daniels   \n",
      "\n",
      "                                      archivo_origen contractcode cruise_date  \n",
      "0  C:\\Users\\HeyCe\\World Tree Technologies Inc\\For...       US0128  01/01/2022  \n",
      "1  C:\\Users\\HeyCe\\World Tree Technologies Inc\\For...       US0128  01/01/2022  \n",
      "2  C:\\Users\\HeyCe\\World Tree Technologies Inc\\For...       US0128  01/01/2022  \n",
      "3  C:\\Users\\HeyCe\\World Tree Technologies Inc\\For...       US0128  01/01/2022  \n",
      "4  C:\\Users\\HeyCe\\World Tree Technologies Inc\\For...       US0128  01/01/2022  \n"
     ]
    }
   ],
   "execution_count": 6
  },
  {
   "metadata": {
    "ExecuteTime": {
     "end_time": "2025-06-27T22:02:40.483631Z",
     "start_time": "2025-06-27T22:02:40.476569Z"
    }
   },
   "cell_type": "code",
   "source": [
    "\n",
    "# 3. Procesa TODO el DataFrame igual que en main.py\n",
    "engine = get_engine()\n",
    "country_code = \"US\""
   ],
   "id": "f548609e3225b1af",
   "outputs": [
    {
     "name": "stdout",
     "output_type": "stream",
     "text": [
      "💻 Conectado a la base de datos helloworldtree\n"
     ]
    }
   ],
   "execution_count": 8
  },
  {
   "metadata": {
    "ExecuteTime": {
     "end_time": "2025-06-27T22:07:14.824510Z",
     "start_time": "2025-06-27T22:07:14.485509Z"
    }
   },
   "cell_type": "code",
   "source": [
    "\n",
    "# Si falta Disease (como en 2022), créala vacía para evitar el KeyError\n",
    "if \"Disease\" not in df.columns:\n",
    "    print(\"⚠️ El formulario de 2022 no tiene columna 'Disease', se crea vacía.\")\n",
    "    df[\"Disease\"] = pd.NA\n",
    "if \"Coppiced\" not in df.columns:\n",
    "    print(\"⚠️ El formulario de 2022 no tiene columna 'Coppiced', se crea vacía.\")\n",
    "    df[\"Coppiced\"] = pd.NA\n",
    "if \"Permanent Plot\" not in df.columns:\n",
    "    print(\"⚠️ El formulario de 2022 no tiene columna 'Permanent Plot', se crea vacía.\")\n",
    "    df[\"Permanent Plot\"] = pd.NA\n",
    "\n",
    "df_good, df_bad = process_inventory_dataframe(df, engine, country_code)\n",
    "\n",
    "print(f\"✔️ Filas válidas: {len(df_good)} | ❌ Filas con error: {len(df_bad)}\")\n",
    "\n",
    "if not df_bad.empty:\n",
    "    df_bad.to_excel(\"bad_rows_inventory_us_2022.xlsx\", index=False)"
   ],
   "id": "4156d0991b8f70cb",
   "outputs": [
    {
     "name": "stdout",
     "output_type": "stream",
     "text": [
      "⚠️ El formulario de 2022 no tiene columna 'Permanent Plot', se crea vacía.\n",
      "🌳 Doyle calculado\n",
      "\n",
      "=== 🪵 Resumen de imputación ===\n",
      "Árboles imputados: 102\n",
      "\n",
      "📋 Por contrato:\n",
      "contractcode\n",
      "US0009    15\n",
      "US0011     4\n",
      "US0042    12\n",
      "US0046     5\n",
      "US0051    10\n",
      "US0110    14\n",
      "US0129    12\n",
      "US0135    10\n",
      "US0137    12\n",
      "US0138     8\n",
      "Name: count, dtype: int64\n",
      "✔️ Filas válidas: 3028 | ❌ Filas con error: 0\n"
     ]
    }
   ],
   "execution_count": 13
  },
  {
   "metadata": {
    "ExecuteTime": {
     "end_time": "2025-06-27T22:30:23.519919Z",
     "start_time": "2025-06-27T22:30:22.211192Z"
    }
   },
   "cell_type": "code",
   "source": [
    "from core.schema_helpers import rename_columns_using_schema, get_dtypes_for_dataframe, FINAL_ORDER\n",
    "\n",
    "# 1. Renombra columnas usando schema (si hace falta)\n",
    "df_sql = rename_columns_using_schema(df_good)\n",
    "\n",
    "# 2. Alinea y rellena columnas según el orden oficial\n",
    "for col in FINAL_ORDER:\n",
    "    if col not in df_sql.columns:\n",
    "        df_sql[col] = pd.NA\n",
    "df_sql = df_sql[FINAL_ORDER]\n",
    "\n",
    "# 3. Castea los tipos correctos\n",
    "dtypes = get_dtypes_for_dataframe(df_sql)\n",
    "for col, dtype in dtypes.items():\n",
    "    if col in df_sql.columns:\n",
    "        try:\n",
    "            df_sql[col] = df_sql[col].astype(dtype.python_type, errors=\"ignore\")\n",
    "        except Exception:\n",
    "            pass\n",
    "\n",
    "# 4. Limpia NAs para SQL (usar clean_for_sql si quieres)\n",
    "df_sql = df_sql.astype(object).where(df_sql.notna(), None)\n",
    "\n",
    "# 5. Asegura la tabla y mete los datos\n",
    "ensure_table(df_sql, engine, \"inventory_us_2022\", recreate=False)\n",
    "save_inventory_to_sql(\n",
    "    df_sql,\n",
    "    engine,\n",
    "    \"inventory_us_2022\",\n",
    "    if_exists=\"append\",\n",
    "    dtype=dtypes,\n",
    "    progress=True\n",
    ")\n"
   ],
   "id": "898b8912980e76a7",
   "outputs": [
    {
     "name": "stdout",
     "output_type": "stream",
     "text": [
      "\n",
      "=== INICIO DE IMPORTACIÓN ===\n",
      "💻 Conectado a la base de datos helloworldtree\n"
     ]
    },
    {
     "name": "stderr",
     "output_type": "stream",
     "text": [
      "Insertando → inventory_us_2022: 100%|██████████| 4/4 [00:00<00:00,  5.31filas/s]"
     ]
    },
    {
     "name": "stdout",
     "output_type": "stream",
     "text": [
      "✅ Bulk insert completado: \n",
      " 'inventory_us_2022' (3028 filas)\n"
     ]
    },
    {
     "name": "stderr",
     "output_type": "stream",
     "text": [
      "\n"
     ]
    }
   ],
   "execution_count": 19
  }
 ],
 "metadata": {
  "kernelspec": {
   "display_name": "Python 3",
   "language": "python",
   "name": "python3"
  },
  "language_info": {
   "codemirror_mode": {
    "name": "ipython",
    "version": 2
   },
   "file_extension": ".py",
   "mimetype": "text/x-python",
   "name": "python",
   "nbconvert_exporter": "python",
   "pygments_lexer": "ipython2",
   "version": "2.7.6"
  }
 },
 "nbformat": 4,
 "nbformat_minor": 5
}
