{
 "cells": [
  {
   "cell_type": "code",
   "id": "9aa4d0a73f17149",
   "metadata": {
    "ExecuteTime": {
     "end_time": "2025-07-14T20:08:37.177196Z",
     "start_time": "2025-07-14T20:08:33.964699Z"
    }
   },
   "source": [
    "# scripts/fix_doyle_metrics.py\n",
    "from core.libs import pd, text\n",
    "from core.db import get_engine"
   ],
   "outputs": [],
   "execution_count": 1
  },
  {
   "metadata": {
    "ExecuteTime": {
     "end_time": "2025-07-14T20:11:29.714910Z",
     "start_time": "2025-07-14T20:11:29.462238Z"
    }
   },
   "cell_type": "code",
   "source": [
    "def backup_table(tabla_original, backup_schema=\"backups\"):\n",
    "    \"\"\"\n",
    "    Hace un respaldo rápido de la tabla SQL usando CREATE TABLE ... AS SELECT.\n",
    "    El backup se guarda en el esquema 'backups' (créalo si no existe).\n",
    "    \"\"\"\n",
    "    engine = get_engine()\n",
    "    backup_table = f\"{backup_schema}.{tabla_original.split('.')[-1]}_bkp\"\n",
    "    with engine.connect() as conn:\n",
    "        # Crear esquema de backups si no existe\n",
    "        conn.execute(text(f\"CREATE SCHEMA IF NOT EXISTS {backup_schema}\"))\n",
    "        # Borrar backup anterior si existe\n",
    "        conn.execute(text(f\"DROP TABLE IF EXISTS {backup_table}\"))\n",
    "        # Clonar tabla\n",
    "        conn.execute(text(f\"CREATE TABLE {backup_table} AS TABLE {tabla_original}\"))\n",
    "        print(f\"✅ Backup creado: {backup_table}\")\n",
    "\n",
    "# Ejemplo de uso:\n",
    "backup_table(\"masterdatabase.inventory_metrics\")\n",
    "backup_table(\"masterdatabase.inventory_metrics_current\")"
   ],
   "id": "f3f08c8cb6d6aedd",
   "outputs": [
    {
     "name": "stdout",
     "output_type": "stream",
     "text": [
      "💻 Conectado a la base de datos helloworldtree\n",
      "✅ Backup creado: backups.inventory_metrics_bkp\n",
      "💻 Conectado a la base de datos helloworldtree\n",
      "✅ Backup creado: backups.inventory_metrics_current_bkp\n"
     ]
    }
   ],
   "execution_count": 3
  },
  {
   "metadata": {
    "collapsed": true,
    "ExecuteTime": {
     "end_time": "2025-07-14T20:11:44.749220Z",
     "start_time": "2025-07-14T20:11:41.780943Z"
    }
   },
   "cell_type": "code",
   "source": [
    "\n",
    "def fix_doyle_and_count(table_name=\"masterdatabase.inventory_metrics\", groupby_fields=[\"contractcode\"], commit_changes=False):\n",
    "    \"\"\"\n",
    "    Recalcula doyle_bf solo para árboles con DBH >= 8 y cuenta cuántos cumplen ese criterio por grupo.\n",
    "    \"\"\"\n",
    "    engine = get_engine()\n",
    "    print(f\"📥 Leyendo tabla: {table_name}\")\n",
    "    df = pd.read_sql(f\"SELECT * FROM {table_name}\", engine)\n",
    "\n",
    "    # Asegura los nombres correctos de las columnas\n",
    "    dbh_col = \"dbh_in\"\n",
    "    tht_col = \"tht_ft\"\n",
    "    doyle_col = \"doyle_bf\"\n",
    "\n",
    "    # Convierte a numérico\n",
    "    df[dbh_col] = pd.to_numeric(df[dbh_col], errors='coerce')\n",
    "    df[tht_col] = pd.to_numeric(df[tht_col], errors='coerce')\n",
    "\n",
    "    # Aplica la fórmula de Doyle solo si dbh >= 8\n",
    "    df[doyle_col] = ((df[dbh_col] - 4) ** 2) * (df[tht_col] / 16)\n",
    "    df[doyle_col] = df[doyle_col].where(df[dbh_col] >= 8, other=pd.NA)\n",
    "\n",
    "    # Conteo de árboles válidos por grupo (ejemplo: por contrato)\n",
    "    filter_mask = df[dbh_col] >= 8\n",
    "    group_counts = df[filter_mask].groupby(groupby_fields).size().reset_index(name=\"count_doyle\")\n",
    "    print(\"\\n🔢 Conteo de árboles válidos por grupo:\\n\")\n",
    "    print(group_counts)\n",
    "\n",
    "    # Merge para tener count_doyle en el DataFrame principal (opcional)\n",
    "    if \"count_doyle\" not in df.columns:\n",
    "        df = df.merge(group_counts, on=groupby_fields, how=\"left\")\n",
    "\n",
    "    # Opcional: guarda como copia o sobrescribe\n",
    "    if commit_changes:\n",
    "        print(f\"💾 Sobrescribiendo tabla {table_name} (haz respaldo primero si es necesario)...\")\n",
    "        df.to_sql(table_name, engine, if_exists=\"replace\", index=False)\n",
    "    else:\n",
    "        out_name = table_name + \"_fix\"\n",
    "        print(f\"💾 Guardando copia en {out_name}\")\n",
    "        df.to_sql(out_name, engine, if_exists=\"replace\", index=False)\n",
    "\n",
    "    print(\"✅ Doyle corregido y conteo agregado.\")\n",
    "\n",
    "if __name__ == \"__main__\":\n",
    "    # Puedes cambiar los argumentos aquí:\n",
    "    fix_doyle_and_count(\n",
    "        table_name=\"masterdatabase.inventory_metrics_current\",  # o \"masterdatabase.inventory_metrics\"\n",
    "        groupby_fields=[\"contractcode\"],  # Puedes agregar más campos, ej. [\"contractcode\", \"year\"]\n",
    "        commit_changes=False  # True para sobrescribir la tabla original\n",
    "    )\n"
   ],
   "id": "initial_id",
   "outputs": [
    {
     "name": "stdout",
     "output_type": "stream",
     "text": [
      "💻 Conectado a la base de datos helloworldtree\n",
      "📥 Leyendo tabla: masterdatabase.inventory_metrics_current\n"
     ]
    },
    {
     "ename": "KeyError",
     "evalue": "'dbh_in'",
     "output_type": "error",
     "traceback": [
      "\u001B[1;31m---------------------------------------------------------------------------\u001B[0m",
      "\u001B[1;31mKeyError\u001B[0m                                  Traceback (most recent call last)",
      "File \u001B[1;32m~\\.conda\\envs\\cartografunk\\Lib\\site-packages\\pandas\\core\\indexes\\base.py:3805\u001B[0m, in \u001B[0;36mIndex.get_loc\u001B[1;34m(self, key)\u001B[0m\n\u001B[0;32m   3804\u001B[0m \u001B[38;5;28;01mtry\u001B[39;00m:\n\u001B[1;32m-> 3805\u001B[0m     \u001B[38;5;28;01mreturn\u001B[39;00m \u001B[38;5;28mself\u001B[39m\u001B[38;5;241m.\u001B[39m_engine\u001B[38;5;241m.\u001B[39mget_loc(casted_key)\n\u001B[0;32m   3806\u001B[0m \u001B[38;5;28;01mexcept\u001B[39;00m \u001B[38;5;167;01mKeyError\u001B[39;00m \u001B[38;5;28;01mas\u001B[39;00m err:\n",
      "File \u001B[1;32mindex.pyx:167\u001B[0m, in \u001B[0;36mpandas._libs.index.IndexEngine.get_loc\u001B[1;34m()\u001B[0m\n",
      "File \u001B[1;32mindex.pyx:196\u001B[0m, in \u001B[0;36mpandas._libs.index.IndexEngine.get_loc\u001B[1;34m()\u001B[0m\n",
      "File \u001B[1;32mpandas\\\\_libs\\\\hashtable_class_helper.pxi:7081\u001B[0m, in \u001B[0;36mpandas._libs.hashtable.PyObjectHashTable.get_item\u001B[1;34m()\u001B[0m\n",
      "File \u001B[1;32mpandas\\\\_libs\\\\hashtable_class_helper.pxi:7089\u001B[0m, in \u001B[0;36mpandas._libs.hashtable.PyObjectHashTable.get_item\u001B[1;34m()\u001B[0m\n",
      "\u001B[1;31mKeyError\u001B[0m: 'dbh_in'",
      "\nThe above exception was the direct cause of the following exception:\n",
      "\u001B[1;31mKeyError\u001B[0m                                  Traceback (most recent call last)",
      "Cell \u001B[1;32mIn[4], line 45\u001B[0m\n\u001B[0;32m     41\u001B[0m     \u001B[38;5;28mprint\u001B[39m(\u001B[38;5;124m\"\u001B[39m\u001B[38;5;124m✅ Doyle corregido y conteo agregado.\u001B[39m\u001B[38;5;124m\"\u001B[39m)\n\u001B[0;32m     43\u001B[0m \u001B[38;5;28;01mif\u001B[39;00m \u001B[38;5;18m__name__\u001B[39m \u001B[38;5;241m==\u001B[39m \u001B[38;5;124m\"\u001B[39m\u001B[38;5;124m__main__\u001B[39m\u001B[38;5;124m\"\u001B[39m:\n\u001B[0;32m     44\u001B[0m     \u001B[38;5;66;03m# Puedes cambiar los argumentos aquí:\u001B[39;00m\n\u001B[1;32m---> 45\u001B[0m     fix_doyle_and_count(\n\u001B[0;32m     46\u001B[0m         table_name\u001B[38;5;241m=\u001B[39m\u001B[38;5;124m\"\u001B[39m\u001B[38;5;124mmasterdatabase.inventory_metrics_current\u001B[39m\u001B[38;5;124m\"\u001B[39m,  \u001B[38;5;66;03m# o \"masterdatabase.inventory_metrics\"\u001B[39;00m\n\u001B[0;32m     47\u001B[0m         groupby_fields\u001B[38;5;241m=\u001B[39m[\u001B[38;5;124m\"\u001B[39m\u001B[38;5;124mcontractcode\u001B[39m\u001B[38;5;124m\"\u001B[39m],  \u001B[38;5;66;03m# Puedes agregar más campos, ej. [\"contractcode\", \"year\"]\u001B[39;00m\n\u001B[0;32m     48\u001B[0m         commit_changes\u001B[38;5;241m=\u001B[39m\u001B[38;5;28;01mFalse\u001B[39;00m  \u001B[38;5;66;03m# True para sobrescribir la tabla original\u001B[39;00m\n\u001B[0;32m     49\u001B[0m     )\n",
      "Cell \u001B[1;32mIn[4], line 15\u001B[0m, in \u001B[0;36mfix_doyle_and_count\u001B[1;34m(table_name, groupby_fields, commit_changes)\u001B[0m\n\u001B[0;32m     12\u001B[0m doyle_col \u001B[38;5;241m=\u001B[39m \u001B[38;5;124m\"\u001B[39m\u001B[38;5;124mdoyle_bf\u001B[39m\u001B[38;5;124m\"\u001B[39m\n\u001B[0;32m     14\u001B[0m \u001B[38;5;66;03m# Convierte a numérico\u001B[39;00m\n\u001B[1;32m---> 15\u001B[0m df[dbh_col] \u001B[38;5;241m=\u001B[39m pd\u001B[38;5;241m.\u001B[39mto_numeric(df[dbh_col], errors\u001B[38;5;241m=\u001B[39m\u001B[38;5;124m'\u001B[39m\u001B[38;5;124mcoerce\u001B[39m\u001B[38;5;124m'\u001B[39m)\n\u001B[0;32m     16\u001B[0m df[tht_col] \u001B[38;5;241m=\u001B[39m pd\u001B[38;5;241m.\u001B[39mto_numeric(df[tht_col], errors\u001B[38;5;241m=\u001B[39m\u001B[38;5;124m'\u001B[39m\u001B[38;5;124mcoerce\u001B[39m\u001B[38;5;124m'\u001B[39m)\n\u001B[0;32m     18\u001B[0m \u001B[38;5;66;03m# Aplica la fórmula de Doyle solo si dbh >= 8\u001B[39;00m\n",
      "File \u001B[1;32m~\\.conda\\envs\\cartografunk\\Lib\\site-packages\\pandas\\core\\frame.py:4102\u001B[0m, in \u001B[0;36mDataFrame.__getitem__\u001B[1;34m(self, key)\u001B[0m\n\u001B[0;32m   4100\u001B[0m \u001B[38;5;28;01mif\u001B[39;00m \u001B[38;5;28mself\u001B[39m\u001B[38;5;241m.\u001B[39mcolumns\u001B[38;5;241m.\u001B[39mnlevels \u001B[38;5;241m>\u001B[39m \u001B[38;5;241m1\u001B[39m:\n\u001B[0;32m   4101\u001B[0m     \u001B[38;5;28;01mreturn\u001B[39;00m \u001B[38;5;28mself\u001B[39m\u001B[38;5;241m.\u001B[39m_getitem_multilevel(key)\n\u001B[1;32m-> 4102\u001B[0m indexer \u001B[38;5;241m=\u001B[39m \u001B[38;5;28mself\u001B[39m\u001B[38;5;241m.\u001B[39mcolumns\u001B[38;5;241m.\u001B[39mget_loc(key)\n\u001B[0;32m   4103\u001B[0m \u001B[38;5;28;01mif\u001B[39;00m is_integer(indexer):\n\u001B[0;32m   4104\u001B[0m     indexer \u001B[38;5;241m=\u001B[39m [indexer]\n",
      "File \u001B[1;32m~\\.conda\\envs\\cartografunk\\Lib\\site-packages\\pandas\\core\\indexes\\base.py:3812\u001B[0m, in \u001B[0;36mIndex.get_loc\u001B[1;34m(self, key)\u001B[0m\n\u001B[0;32m   3807\u001B[0m     \u001B[38;5;28;01mif\u001B[39;00m \u001B[38;5;28misinstance\u001B[39m(casted_key, \u001B[38;5;28mslice\u001B[39m) \u001B[38;5;129;01mor\u001B[39;00m (\n\u001B[0;32m   3808\u001B[0m         \u001B[38;5;28misinstance\u001B[39m(casted_key, abc\u001B[38;5;241m.\u001B[39mIterable)\n\u001B[0;32m   3809\u001B[0m         \u001B[38;5;129;01mand\u001B[39;00m \u001B[38;5;28many\u001B[39m(\u001B[38;5;28misinstance\u001B[39m(x, \u001B[38;5;28mslice\u001B[39m) \u001B[38;5;28;01mfor\u001B[39;00m x \u001B[38;5;129;01min\u001B[39;00m casted_key)\n\u001B[0;32m   3810\u001B[0m     ):\n\u001B[0;32m   3811\u001B[0m         \u001B[38;5;28;01mraise\u001B[39;00m InvalidIndexError(key)\n\u001B[1;32m-> 3812\u001B[0m     \u001B[38;5;28;01mraise\u001B[39;00m \u001B[38;5;167;01mKeyError\u001B[39;00m(key) \u001B[38;5;28;01mfrom\u001B[39;00m \u001B[38;5;21;01merr\u001B[39;00m\n\u001B[0;32m   3813\u001B[0m \u001B[38;5;28;01mexcept\u001B[39;00m \u001B[38;5;167;01mTypeError\u001B[39;00m:\n\u001B[0;32m   3814\u001B[0m     \u001B[38;5;66;03m# If we have a listlike key, _check_indexing_error will raise\u001B[39;00m\n\u001B[0;32m   3815\u001B[0m     \u001B[38;5;66;03m#  InvalidIndexError. Otherwise we fall through and re-raise\u001B[39;00m\n\u001B[0;32m   3816\u001B[0m     \u001B[38;5;66;03m#  the TypeError.\u001B[39;00m\n\u001B[0;32m   3817\u001B[0m     \u001B[38;5;28mself\u001B[39m\u001B[38;5;241m.\u001B[39m_check_indexing_error(key)\n",
      "\u001B[1;31mKeyError\u001B[0m: 'dbh_in'"
     ]
    }
   ],
   "execution_count": 4
  }
 ],
 "metadata": {
  "kernelspec": {
   "display_name": "Python 3",
   "language": "python",
   "name": "python3"
  },
  "language_info": {
   "codemirror_mode": {
    "name": "ipython",
    "version": 2
   },
   "file_extension": ".py",
   "mimetype": "text/x-python",
   "name": "python",
   "nbconvert_exporter": "python",
   "pygments_lexer": "ipython2",
   "version": "2.7.6"
  }
 },
 "nbformat": 4,
 "nbformat_minor": 5
}
