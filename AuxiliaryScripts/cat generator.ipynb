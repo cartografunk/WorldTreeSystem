{
 "cells": [
  {
   "cell_type": "code",
   "id": "initial_id",
   "metadata": {
    "collapsed": true,
    "ExecuteTime": {
     "end_time": "2025-06-10T08:34:45.331471Z",
     "start_time": "2025-06-10T08:34:44.911622Z"
    }
   },
   "source": [
    "from core.db import get_engine\n",
    "from core.schema_helpers import get_column\n",
    "from core.libs import pd\n",
    "from sqlalchemy import text\n",
    "\n",
    "def crear_cat_inventory_para_todas():\n",
    "    engine = get_engine()\n",
    "    # Buscar todas las tablas que empiecen con inventory_\n",
    "    tables = pd.read_sql(\"\"\"\n",
    "        SELECT table_name\n",
    "        FROM information_schema.tables\n",
    "        WHERE table_schema = 'public'\n",
    "        AND table_name LIKE 'inventory_%';\n",
    "    \"\"\", engine)[\"table_name\"].tolist()\n",
    "\n",
    "    for table in tables:\n",
    "        print(f\"📦 Procesando {table}...\")\n",
    "\n",
    "        df = pd.read_sql(f'SELECT * FROM public.\"{table}\"', engine)\n",
    "        if df.empty:\n",
    "            print(f\"⚠️  {table} está vacía, se omite.\")\n",
    "            continue\n",
    "\n",
    "        # Buscar columnas usando schema_helpers\n",
    "        try:\n",
    "            contract_col = get_column(\"contractcode\", df)\n",
    "            farmer_col   = get_column(\"farmername\", df)\n",
    "            cruise_col   = get_column(\"cruisedate\", df)\n",
    "        except KeyError as e:\n",
    "            print(f\"⛔ Error columnas faltantes en {table}: {e}\")\n",
    "            continue\n",
    "\n",
    "        cat_df = (\n",
    "            df[[contract_col, farmer_col, cruise_col]]\n",
    "            .drop_duplicates(subset=[contract_col])\n",
    "            .reset_index(drop=True)\n",
    "        )\n",
    "\n",
    "        # Nombre destino tipo cat_inventory_mx_2025\n",
    "        suffix = table.replace(\"inventory_\", \"\")\n",
    "        dest = f\"cat_inventory_{suffix}\"\n",
    "\n",
    "        # Guardar en SQL\n",
    "        cat_df.to_sql(dest, engine, index=False, if_exists=\"replace\")\n",
    "        print(f\"✅ cat_inventory generado: {dest} ({len(cat_df)} contratos)\")\n",
    "\n",
    "if __name__ == \"__main__\":\n",
    "    crear_cat_inventory_para_todas()\n"
   ],
   "outputs": [
    {
     "name": "stdout",
     "output_type": "stream",
     "text": [
      "💻 Conectado a la base de datos helloworldtree\n"
     ]
    },
    {
     "ename": "TypeError",
     "evalue": "sqlalchemy.cyextension.immutabledict.immutabledict is not a sequence",
     "output_type": "error",
     "traceback": [
      "\u001B[1;31m---------------------------------------------------------------------------\u001B[0m",
      "\u001B[1;31mTypeError\u001B[0m                                 Traceback (most recent call last)",
      "Cell \u001B[1;32mIn[8], line 48\u001B[0m\n\u001B[0;32m     45\u001B[0m         \u001B[38;5;28mprint\u001B[39m(\u001B[38;5;124mf\u001B[39m\u001B[38;5;124m\"\u001B[39m\u001B[38;5;124m✅ cat_inventory generado: \u001B[39m\u001B[38;5;132;01m{\u001B[39;00mdest\u001B[38;5;132;01m}\u001B[39;00m\u001B[38;5;124m (\u001B[39m\u001B[38;5;132;01m{\u001B[39;00m\u001B[38;5;28mlen\u001B[39m(cat_df)\u001B[38;5;132;01m}\u001B[39;00m\u001B[38;5;124m contratos)\u001B[39m\u001B[38;5;124m\"\u001B[39m)\n\u001B[0;32m     47\u001B[0m \u001B[38;5;28;01mif\u001B[39;00m \u001B[38;5;18m__name__\u001B[39m \u001B[38;5;241m==\u001B[39m \u001B[38;5;124m\"\u001B[39m\u001B[38;5;124m__main__\u001B[39m\u001B[38;5;124m\"\u001B[39m:\n\u001B[1;32m---> 48\u001B[0m     crear_cat_inventory_para_todas()\n",
      "Cell \u001B[1;32mIn[8], line 9\u001B[0m, in \u001B[0;36mcrear_cat_inventory_para_todas\u001B[1;34m()\u001B[0m\n\u001B[0;32m      7\u001B[0m engine \u001B[38;5;241m=\u001B[39m get_engine()\n\u001B[0;32m      8\u001B[0m \u001B[38;5;66;03m# Buscar todas las tablas que empiecen con inventory_\u001B[39;00m\n\u001B[1;32m----> 9\u001B[0m tables \u001B[38;5;241m=\u001B[39m pd\u001B[38;5;241m.\u001B[39mread_sql(\u001B[38;5;124m\"\"\"\u001B[39m\n\u001B[0;32m     10\u001B[0m \u001B[38;5;124m    SELECT table_name\u001B[39m\n\u001B[0;32m     11\u001B[0m \u001B[38;5;124m    FROM information_schema.tables\u001B[39m\n\u001B[0;32m     12\u001B[0m \u001B[38;5;124m    WHERE table_schema = \u001B[39m\u001B[38;5;124m'\u001B[39m\u001B[38;5;124mpublic\u001B[39m\u001B[38;5;124m'\u001B[39m\n\u001B[0;32m     13\u001B[0m \u001B[38;5;124m    AND table_name LIKE \u001B[39m\u001B[38;5;124m'\u001B[39m\u001B[38;5;124minventory_\u001B[39m\u001B[38;5;124m%\u001B[39m\u001B[38;5;124m'\u001B[39m\u001B[38;5;124m;\u001B[39m\n\u001B[0;32m     14\u001B[0m \u001B[38;5;124m\u001B[39m\u001B[38;5;124m\"\"\"\u001B[39m, engine)[\u001B[38;5;124m\"\u001B[39m\u001B[38;5;124mtable_name\u001B[39m\u001B[38;5;124m\"\u001B[39m]\u001B[38;5;241m.\u001B[39mtolist()\n\u001B[0;32m     16\u001B[0m \u001B[38;5;28;01mfor\u001B[39;00m table \u001B[38;5;129;01min\u001B[39;00m tables:\n\u001B[0;32m     17\u001B[0m     \u001B[38;5;28mprint\u001B[39m(\u001B[38;5;124mf\u001B[39m\u001B[38;5;124m\"\u001B[39m\u001B[38;5;124m📦 Procesando \u001B[39m\u001B[38;5;132;01m{\u001B[39;00mtable\u001B[38;5;132;01m}\u001B[39;00m\u001B[38;5;124m...\u001B[39m\u001B[38;5;124m\"\u001B[39m)\n",
      "File \u001B[1;32m~\\.conda\\envs\\cartografunk\\Lib\\site-packages\\pandas\\io\\sql.py:734\u001B[0m, in \u001B[0;36mread_sql\u001B[1;34m(sql, con, index_col, coerce_float, params, parse_dates, columns, chunksize, dtype_backend, dtype)\u001B[0m\n\u001B[0;32m    724\u001B[0m     \u001B[38;5;28;01mreturn\u001B[39;00m pandas_sql\u001B[38;5;241m.\u001B[39mread_table(\n\u001B[0;32m    725\u001B[0m         sql,\n\u001B[0;32m    726\u001B[0m         index_col\u001B[38;5;241m=\u001B[39mindex_col,\n\u001B[1;32m   (...)\u001B[0m\n\u001B[0;32m    731\u001B[0m         dtype_backend\u001B[38;5;241m=\u001B[39mdtype_backend,\n\u001B[0;32m    732\u001B[0m     )\n\u001B[0;32m    733\u001B[0m \u001B[38;5;28;01melse\u001B[39;00m:\n\u001B[1;32m--> 734\u001B[0m     \u001B[38;5;28;01mreturn\u001B[39;00m pandas_sql\u001B[38;5;241m.\u001B[39mread_query(\n\u001B[0;32m    735\u001B[0m         sql,\n\u001B[0;32m    736\u001B[0m         index_col\u001B[38;5;241m=\u001B[39mindex_col,\n\u001B[0;32m    737\u001B[0m         params\u001B[38;5;241m=\u001B[39mparams,\n\u001B[0;32m    738\u001B[0m         coerce_float\u001B[38;5;241m=\u001B[39mcoerce_float,\n\u001B[0;32m    739\u001B[0m         parse_dates\u001B[38;5;241m=\u001B[39mparse_dates,\n\u001B[0;32m    740\u001B[0m         chunksize\u001B[38;5;241m=\u001B[39mchunksize,\n\u001B[0;32m    741\u001B[0m         dtype_backend\u001B[38;5;241m=\u001B[39mdtype_backend,\n\u001B[0;32m    742\u001B[0m         dtype\u001B[38;5;241m=\u001B[39mdtype,\n\u001B[0;32m    743\u001B[0m     )\n",
      "File \u001B[1;32m~\\.conda\\envs\\cartografunk\\Lib\\site-packages\\pandas\\io\\sql.py:1836\u001B[0m, in \u001B[0;36mSQLDatabase.read_query\u001B[1;34m(self, sql, index_col, coerce_float, parse_dates, params, chunksize, dtype, dtype_backend)\u001B[0m\n\u001B[0;32m   1779\u001B[0m \u001B[38;5;28;01mdef\u001B[39;00m \u001B[38;5;21mread_query\u001B[39m(\n\u001B[0;32m   1780\u001B[0m     \u001B[38;5;28mself\u001B[39m,\n\u001B[0;32m   1781\u001B[0m     sql: \u001B[38;5;28mstr\u001B[39m,\n\u001B[1;32m   (...)\u001B[0m\n\u001B[0;32m   1788\u001B[0m     dtype_backend: DtypeBackend \u001B[38;5;241m|\u001B[39m Literal[\u001B[38;5;124m\"\u001B[39m\u001B[38;5;124mnumpy\u001B[39m\u001B[38;5;124m\"\u001B[39m] \u001B[38;5;241m=\u001B[39m \u001B[38;5;124m\"\u001B[39m\u001B[38;5;124mnumpy\u001B[39m\u001B[38;5;124m\"\u001B[39m,\n\u001B[0;32m   1789\u001B[0m ) \u001B[38;5;241m-\u001B[39m\u001B[38;5;241m>\u001B[39m DataFrame \u001B[38;5;241m|\u001B[39m Iterator[DataFrame]:\n\u001B[0;32m   1790\u001B[0m \u001B[38;5;250m    \u001B[39m\u001B[38;5;124;03m\"\"\"\u001B[39;00m\n\u001B[0;32m   1791\u001B[0m \u001B[38;5;124;03m    Read SQL query into a DataFrame.\u001B[39;00m\n\u001B[0;32m   1792\u001B[0m \n\u001B[1;32m   (...)\u001B[0m\n\u001B[0;32m   1834\u001B[0m \n\u001B[0;32m   1835\u001B[0m \u001B[38;5;124;03m    \"\"\"\u001B[39;00m\n\u001B[1;32m-> 1836\u001B[0m     result \u001B[38;5;241m=\u001B[39m \u001B[38;5;28mself\u001B[39m\u001B[38;5;241m.\u001B[39mexecute(sql, params)\n\u001B[0;32m   1837\u001B[0m     columns \u001B[38;5;241m=\u001B[39m result\u001B[38;5;241m.\u001B[39mkeys()\n\u001B[0;32m   1839\u001B[0m     \u001B[38;5;28;01mif\u001B[39;00m chunksize \u001B[38;5;129;01mis\u001B[39;00m \u001B[38;5;129;01mnot\u001B[39;00m \u001B[38;5;28;01mNone\u001B[39;00m:\n",
      "File \u001B[1;32m~\\.conda\\envs\\cartografunk\\Lib\\site-packages\\pandas\\io\\sql.py:1659\u001B[0m, in \u001B[0;36mSQLDatabase.execute\u001B[1;34m(self, sql, params)\u001B[0m\n\u001B[0;32m   1657\u001B[0m args \u001B[38;5;241m=\u001B[39m [] \u001B[38;5;28;01mif\u001B[39;00m params \u001B[38;5;129;01mis\u001B[39;00m \u001B[38;5;28;01mNone\u001B[39;00m \u001B[38;5;28;01melse\u001B[39;00m [params]\n\u001B[0;32m   1658\u001B[0m \u001B[38;5;28;01mif\u001B[39;00m \u001B[38;5;28misinstance\u001B[39m(sql, \u001B[38;5;28mstr\u001B[39m):\n\u001B[1;32m-> 1659\u001B[0m     \u001B[38;5;28;01mreturn\u001B[39;00m \u001B[38;5;28mself\u001B[39m\u001B[38;5;241m.\u001B[39mcon\u001B[38;5;241m.\u001B[39mexec_driver_sql(sql, \u001B[38;5;241m*\u001B[39margs)\n\u001B[0;32m   1660\u001B[0m \u001B[38;5;28;01mreturn\u001B[39;00m \u001B[38;5;28mself\u001B[39m\u001B[38;5;241m.\u001B[39mcon\u001B[38;5;241m.\u001B[39mexecute(sql, \u001B[38;5;241m*\u001B[39margs)\n",
      "File \u001B[1;32m~\\.conda\\envs\\cartografunk\\Lib\\site-packages\\sqlalchemy\\engine\\base.py:1776\u001B[0m, in \u001B[0;36mConnection.exec_driver_sql\u001B[1;34m(self, statement, parameters, execution_options)\u001B[0m\n\u001B[0;32m   1771\u001B[0m execution_options \u001B[38;5;241m=\u001B[39m \u001B[38;5;28mself\u001B[39m\u001B[38;5;241m.\u001B[39m_execution_options\u001B[38;5;241m.\u001B[39mmerge_with(\n\u001B[0;32m   1772\u001B[0m     execution_options\n\u001B[0;32m   1773\u001B[0m )\n\u001B[0;32m   1775\u001B[0m dialect \u001B[38;5;241m=\u001B[39m \u001B[38;5;28mself\u001B[39m\u001B[38;5;241m.\u001B[39mdialect\n\u001B[1;32m-> 1776\u001B[0m ret \u001B[38;5;241m=\u001B[39m \u001B[38;5;28mself\u001B[39m\u001B[38;5;241m.\u001B[39m_execute_context(\n\u001B[0;32m   1777\u001B[0m     dialect,\n\u001B[0;32m   1778\u001B[0m     dialect\u001B[38;5;241m.\u001B[39mexecution_ctx_cls\u001B[38;5;241m.\u001B[39m_init_statement,\n\u001B[0;32m   1779\u001B[0m     statement,\n\u001B[0;32m   1780\u001B[0m     \u001B[38;5;28;01mNone\u001B[39;00m,\n\u001B[0;32m   1781\u001B[0m     execution_options,\n\u001B[0;32m   1782\u001B[0m     statement,\n\u001B[0;32m   1783\u001B[0m     distilled_parameters,\n\u001B[0;32m   1784\u001B[0m )\n\u001B[0;32m   1786\u001B[0m \u001B[38;5;28;01mreturn\u001B[39;00m ret\n",
      "File \u001B[1;32m~\\.conda\\envs\\cartografunk\\Lib\\site-packages\\sqlalchemy\\engine\\base.py:1843\u001B[0m, in \u001B[0;36mConnection._execute_context\u001B[1;34m(self, dialect, constructor, statement, parameters, execution_options, *args, **kw)\u001B[0m\n\u001B[0;32m   1841\u001B[0m     \u001B[38;5;28;01mreturn\u001B[39;00m \u001B[38;5;28mself\u001B[39m\u001B[38;5;241m.\u001B[39m_exec_insertmany_context(dialect, context)\n\u001B[0;32m   1842\u001B[0m \u001B[38;5;28;01melse\u001B[39;00m:\n\u001B[1;32m-> 1843\u001B[0m     \u001B[38;5;28;01mreturn\u001B[39;00m \u001B[38;5;28mself\u001B[39m\u001B[38;5;241m.\u001B[39m_exec_single_context(\n\u001B[0;32m   1844\u001B[0m         dialect, context, statement, parameters\n\u001B[0;32m   1845\u001B[0m     )\n",
      "File \u001B[1;32m~\\.conda\\envs\\cartografunk\\Lib\\site-packages\\sqlalchemy\\engine\\base.py:1983\u001B[0m, in \u001B[0;36mConnection._exec_single_context\u001B[1;34m(self, dialect, context, statement, parameters)\u001B[0m\n\u001B[0;32m   1980\u001B[0m     result \u001B[38;5;241m=\u001B[39m context\u001B[38;5;241m.\u001B[39m_setup_result_proxy()\n\u001B[0;32m   1982\u001B[0m \u001B[38;5;28;01mexcept\u001B[39;00m \u001B[38;5;167;01mBaseException\u001B[39;00m \u001B[38;5;28;01mas\u001B[39;00m e:\n\u001B[1;32m-> 1983\u001B[0m     \u001B[38;5;28mself\u001B[39m\u001B[38;5;241m.\u001B[39m_handle_dbapi_exception(\n\u001B[0;32m   1984\u001B[0m         e, str_statement, effective_parameters, cursor, context\n\u001B[0;32m   1985\u001B[0m     )\n\u001B[0;32m   1987\u001B[0m \u001B[38;5;28;01mreturn\u001B[39;00m result\n",
      "File \u001B[1;32m~\\.conda\\envs\\cartografunk\\Lib\\site-packages\\sqlalchemy\\engine\\base.py:2355\u001B[0m, in \u001B[0;36mConnection._handle_dbapi_exception\u001B[1;34m(self, e, statement, parameters, cursor, context, is_sub_exec)\u001B[0m\n\u001B[0;32m   2353\u001B[0m     \u001B[38;5;28;01melse\u001B[39;00m:\n\u001B[0;32m   2354\u001B[0m         \u001B[38;5;28;01massert\u001B[39;00m exc_info[\u001B[38;5;241m1\u001B[39m] \u001B[38;5;129;01mis\u001B[39;00m \u001B[38;5;129;01mnot\u001B[39;00m \u001B[38;5;28;01mNone\u001B[39;00m\n\u001B[1;32m-> 2355\u001B[0m         \u001B[38;5;28;01mraise\u001B[39;00m exc_info[\u001B[38;5;241m1\u001B[39m]\u001B[38;5;241m.\u001B[39mwith_traceback(exc_info[\u001B[38;5;241m2\u001B[39m])\n\u001B[0;32m   2356\u001B[0m \u001B[38;5;28;01mfinally\u001B[39;00m:\n\u001B[0;32m   2357\u001B[0m     \u001B[38;5;28;01mdel\u001B[39;00m \u001B[38;5;28mself\u001B[39m\u001B[38;5;241m.\u001B[39m_reentrant_error\n",
      "File \u001B[1;32m~\\.conda\\envs\\cartografunk\\Lib\\site-packages\\sqlalchemy\\engine\\base.py:1964\u001B[0m, in \u001B[0;36mConnection._exec_single_context\u001B[1;34m(self, dialect, context, statement, parameters)\u001B[0m\n\u001B[0;32m   1962\u001B[0m                 \u001B[38;5;28;01mbreak\u001B[39;00m\n\u001B[0;32m   1963\u001B[0m     \u001B[38;5;28;01mif\u001B[39;00m \u001B[38;5;129;01mnot\u001B[39;00m evt_handled:\n\u001B[1;32m-> 1964\u001B[0m         \u001B[38;5;28mself\u001B[39m\u001B[38;5;241m.\u001B[39mdialect\u001B[38;5;241m.\u001B[39mdo_execute(\n\u001B[0;32m   1965\u001B[0m             cursor, str_statement, effective_parameters, context\n\u001B[0;32m   1966\u001B[0m         )\n\u001B[0;32m   1968\u001B[0m \u001B[38;5;28;01mif\u001B[39;00m \u001B[38;5;28mself\u001B[39m\u001B[38;5;241m.\u001B[39m_has_events \u001B[38;5;129;01mor\u001B[39;00m \u001B[38;5;28mself\u001B[39m\u001B[38;5;241m.\u001B[39mengine\u001B[38;5;241m.\u001B[39m_has_events:\n\u001B[0;32m   1969\u001B[0m     \u001B[38;5;28mself\u001B[39m\u001B[38;5;241m.\u001B[39mdispatch\u001B[38;5;241m.\u001B[39mafter_cursor_execute(\n\u001B[0;32m   1970\u001B[0m         \u001B[38;5;28mself\u001B[39m,\n\u001B[0;32m   1971\u001B[0m         cursor,\n\u001B[1;32m   (...)\u001B[0m\n\u001B[0;32m   1975\u001B[0m         context\u001B[38;5;241m.\u001B[39mexecutemany,\n\u001B[0;32m   1976\u001B[0m     )\n",
      "File \u001B[1;32m~\\.conda\\envs\\cartografunk\\Lib\\site-packages\\sqlalchemy\\engine\\default.py:945\u001B[0m, in \u001B[0;36mDefaultDialect.do_execute\u001B[1;34m(self, cursor, statement, parameters, context)\u001B[0m\n\u001B[0;32m    944\u001B[0m \u001B[38;5;28;01mdef\u001B[39;00m \u001B[38;5;21mdo_execute\u001B[39m(\u001B[38;5;28mself\u001B[39m, cursor, statement, parameters, context\u001B[38;5;241m=\u001B[39m\u001B[38;5;28;01mNone\u001B[39;00m):\n\u001B[1;32m--> 945\u001B[0m     cursor\u001B[38;5;241m.\u001B[39mexecute(statement, parameters)\n",
      "\u001B[1;31mTypeError\u001B[0m: sqlalchemy.cyextension.immutabledict.immutabledict is not a sequence"
     ]
    }
   ],
   "execution_count": 8
  },
  {
   "metadata": {},
   "cell_type": "code",
   "outputs": [],
   "execution_count": null,
   "source": "",
   "id": "b3ca9887cea7692a"
  }
 ],
 "metadata": {
  "kernelspec": {
   "display_name": "Python 3",
   "language": "python",
   "name": "python3"
  },
  "language_info": {
   "codemirror_mode": {
    "name": "ipython",
    "version": 2
   },
   "file_extension": ".py",
   "mimetype": "text/x-python",
   "name": "python",
   "nbconvert_exporter": "python",
   "pygments_lexer": "ipython2",
   "version": "2.7.6"
  }
 },
 "nbformat": 4,
 "nbformat_minor": 5
}
