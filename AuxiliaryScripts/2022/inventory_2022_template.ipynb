{
 "cells": [
  {
   "cell_type": "code",
   "id": "f0d26b4b0c96cc31",
   "metadata": {
    "ExecuteTime": {
     "end_time": "2025-07-04T00:42:07.251076Z",
     "start_time": "2025-07-04T00:42:07.242858Z"
    }
   },
   "source": [
    "#Inventory 2022 auxiliar Cruise Processor\n",
    "#Libraries\n",
    "from core.libs import pd, tqdm, Path, json, re\n",
    "from core.paths import resolve_inventory_paths"
   ],
   "outputs": [],
   "execution_count": 14
  },
  {
   "metadata": {
    "ExecuteTime": {
     "end_time": "2025-07-04T00:42:07.968194Z",
     "start_time": "2025-07-04T00:42:07.344772Z"
    }
   },
   "cell_type": "code",
   "source": [
    "from core.libs import pd, tqdm, Path, re\n",
    "import os\n",
    "\n",
    "# --- Cambia el país aquí ---\n",
    "specific_file = \"mx\"  # Cambia a \"gt\" o \"mx\" según el país\n",
    "\n",
    "base = r\"C:\\Users\\HeyCe\\World Tree Technologies Inc\\Operations - Documentos\\WorldTreeSystem\\AuxiliaryScripts\\2022\"\n",
    "cheatsheet_path = os.path.join(base, f\"{specific_file}_2022_cheatseet.csv\")\n",
    "\n",
    "if not os.path.exists(cheatsheet_path):\n",
    "    raise Exception(f\"No se encontró cheatsheet para {specific_file}: {cheatsheet_path}\")\n",
    "\n",
    "df_cheat = pd.read_csv(cheatsheet_path)\n",
    "\n",
    "df_valid = df_cheat[\n",
    "    (df_cheat[\"TreeFilePath\"].notna()) &\n",
    "    (df_cheat[\"TreeFilePath\"] != \"NA\") &\n",
    "    (df_cheat[\"case\"].str.lower() != \"missing\")\n",
    "].copy()\n",
    "\n",
    "print(f\"Archivos válidos a procesar: {len(df_valid)}\")\n",
    "\n",
    "def pick_sheet(excel_file):\n",
    "    sheets = pd.ExcelFile(excel_file).sheet_names\n",
    "    for sheet in sheets:\n",
    "        if sheet.lower().strip() in (\"input\", \"sheet1\"):\n",
    "            return sheet\n",
    "    return sheets[0]\n",
    "\n",
    "frames = []\n",
    "for idx, row in tqdm(df_valid.iterrows(), total=len(df_valid), desc=\"Leyendo archivos\"):\n",
    "    excel_path = Path(row[\"TreeFilePath\"])\n",
    "    contract_code = row[\"contractcode\"]\n",
    "    cruise_date = row[\"inventory_date\"]\n",
    "    try:\n",
    "        sheet = pick_sheet(excel_path)\n",
    "        df = pd.read_excel(excel_path, sheet_name=sheet)\n",
    "        df.columns = [str(c).strip() for c in df.columns]\n",
    "        df['archivo_origen'] = str(excel_path)\n",
    "        df['contractcode'] = contract_code\n",
    "        df['cruise_date'] = cruise_date\n",
    "        frames.append(df)\n",
    "    except Exception as e:\n",
    "        print(f\"Error en {excel_path}: {e}\")\n",
    "\n",
    "if not frames:\n",
    "    raise Exception(\"❌ Ningún archivo pudo ser leído correctamente.\")\n",
    "\n",
    "df_all = pd.concat(frames, ignore_index=True)\n",
    "df_all = df_all.dropna(axis=1, how='all')\n",
    "\n",
    "print(df_all.head(5))\n"
   ],
   "id": "26b957015d672540",
   "outputs": [
    {
     "name": "stdout",
     "output_type": "stream",
     "text": [
      "Archivos válidos a procesar: 6\n"
     ]
    },
    {
     "name": "stderr",
     "output_type": "stream",
     "text": [
      "Leyendo archivos: 100%|██████████| 6/6 [00:00<00:00, 10.27it/s]"
     ]
    },
    {
     "name": "stdout",
     "output_type": "stream",
     "text": [
      "   Stands::StandNumber  Points::PointNumber  GradingsSerialNumberAtPoint  \\\n",
      "0                    1                    1                            1   \n",
      "1                    1                    1                            2   \n",
      "2                    1                    1                            3   \n",
      "3                    1                    1                            4   \n",
      "4                    1                    1                            5   \n",
      "\n",
      "                   Tree_ID    WT Status WT Species    WT Leaf  WT DHT  WT DBH  \\\n",
      "0     54418544659281797120  1 Viva/Vivo   Elongata  4 76-100%       0       0   \n",
      "1    915487742582450814976  1 Viva/Vivo   Elongata  4 76-100%       0       0   \n",
      "2  69004127945880611323904  1 Viva/Vivo   Elongata  4 76-100%       0       0   \n",
      "3  93314542940889307676672  1 Viva/Vivo   Elongata  4 76-100%       0       0   \n",
      "4       821588747087172992  1 Viva/Vivo   Elongata  4 76-100%       0       0   \n",
      "\n",
      "      WT THT  WT MHT WT Pests jenkinsTotalAgBiomassGREEN GradingsComment  \\\n",
      "0   0.984252       0      NaN                          ?             NaN   \n",
      "1   7.874016       0      NaN                          ?             NaN   \n",
      "2  11.154856       0      NaN                          ?             NaN   \n",
      "3   9.842520       0      NaN                          ?             NaN   \n",
      "4  10.170604       0      NaN                          ?             NaN   \n",
      "\n",
      "  Preferences::WorldTreePrefsInventoryType Preferences::WorldTreeUnits  \\\n",
      "0                                 Estimate                    Imperial   \n",
      "1                                 Estimate                    Imperial   \n",
      "2                                 Estimate                    Imperial   \n",
      "3                                 Estimate                    Imperial   \n",
      "4                                 Estimate                    Imperial   \n",
      "\n",
      "         Preferences::prefsFileName  \\\n",
      "0  MX0009_Mexico_2021_Manuel Mapula   \n",
      "1  MX0009_Mexico_2021_Manuel Mapula   \n",
      "2  MX0009_Mexico_2021_Manuel Mapula   \n",
      "3  MX0009_Mexico_2021_Manuel Mapula   \n",
      "4  MX0009_Mexico_2021_Manuel Mapula   \n",
      "\n",
      "                                      archivo_origen contractcode cruise_date  \n",
      "0  C:\\Users\\HeyCe\\World Tree Technologies Inc\\For...       MX0009  01/01/2022  \n",
      "1  C:\\Users\\HeyCe\\World Tree Technologies Inc\\For...       MX0009  01/01/2022  \n",
      "2  C:\\Users\\HeyCe\\World Tree Technologies Inc\\For...       MX0009  01/01/2022  \n",
      "3  C:\\Users\\HeyCe\\World Tree Technologies Inc\\For...       MX0009  01/01/2022  \n",
      "4  C:\\Users\\HeyCe\\World Tree Technologies Inc\\For...       MX0009  01/01/2022  \n"
     ]
    },
    {
     "name": "stderr",
     "output_type": "stream",
     "text": [
      "\n"
     ]
    }
   ],
   "execution_count": 15
  },
  {
   "metadata": {
    "ExecuteTime": {
     "end_time": "2025-07-04T00:42:08.085624Z",
     "start_time": "2025-07-04T00:42:08.049176Z"
    }
   },
   "cell_type": "code",
   "source": [
    "# --- Exporta el CSV final ---\n",
    "output = os.path.join(\n",
    "    base, f\"inventory_{specific_file}_2022_concentrado.csv\"\n",
    ")\n",
    "df_all.to_csv(output, index=False)\n",
    "print(f\"\\n✅ CSV concentrado generado en:\\n{output}\")\n",
    "print(f\"Columnas: {list(df_all.columns)}\")\n",
    "print(f\"Filas: {len(df_all)}\")\n",
    "\n"
   ],
   "id": "44704d76e7adbf71",
   "outputs": [
    {
     "name": "stdout",
     "output_type": "stream",
     "text": [
      "\n",
      "✅ CSV concentrado generado en:\n",
      "C:\\Users\\HeyCe\\World Tree Technologies Inc\\Operations - Documentos\\WorldTreeSystem\\AuxiliaryScripts\\2022\\inventory_mx_2022_concentrado.csv\n",
      "Columnas: ['Stands::StandNumber', 'Points::PointNumber', 'GradingsSerialNumberAtPoint', 'Tree_ID', 'WT Status', 'WT Species', 'WT Leaf', 'WT DHT', 'WT DBH', 'WT THT', 'WT MHT', 'WT Pests', 'jenkinsTotalAgBiomassGREEN', 'GradingsComment', 'Preferences::WorldTreePrefsInventoryType', 'Preferences::WorldTreeUnits', 'Preferences::prefsFileName', 'archivo_origen', 'contractcode', 'cruise_date']\n",
      "Filas: 1407\n"
     ]
    }
   ],
   "execution_count": 16
  },
  {
   "metadata": {
    "ExecuteTime": {
     "end_time": "2025-07-04T00:42:08.174081Z",
     "start_time": "2025-07-04T00:42:08.168562Z"
    }
   },
   "cell_type": "code",
   "source": "#Lo limpié manualmente porque era más fácil lol",
   "id": "98038a5bbd7c08d1",
   "outputs": [],
   "execution_count": 17
  },
  {
   "metadata": {
    "ExecuteTime": {
     "end_time": "2025-07-04T00:42:08.345715Z",
     "start_time": "2025-07-04T00:42:08.340995Z"
    }
   },
   "cell_type": "code",
   "source": [
    "#De nuevo armando output\n",
    "specific_file = \"mx\"  # Cambia a \"gt\" o \"mx\" según el país\n",
    "output = os.path.join(\n",
    "    base, f\"inventory_{specific_file}_2022_concentrado.csv\"\n",
    ")"
   ],
   "id": "c046f9e4122b8e22",
   "outputs": [],
   "execution_count": 18
  },
  {
   "metadata": {
    "ExecuteTime": {
     "end_time": "2025-07-04T00:42:08.474178Z",
     "start_time": "2025-07-04T00:42:08.381297Z"
    }
   },
   "cell_type": "code",
   "source": [
    "from core.libs import pd\n",
    "from core.schema_helpers import rename_columns_using_schema\n",
    "from CruisesProcessor.general_processing import process_inventory_dataframe\n",
    "from CruisesProcessor.general_importer import prepare_df_for_sql, save_inventory_to_sql\n",
    "from core.db import get_engine\n",
    "from CruisesProcessor.catalog_normalizer import ensure_catalog_entries\n",
    "\n",
    "\n",
    "# 1. Lee el CSV limpio (solo columnas de texto, nunca _id)\n",
    "df = pd.read_csv(output)\n",
    "df = rename_columns_using_schema(df)\n",
    "\n",
    "# 🔍 Print para diagnóstico inmediato\n",
    "print(\"Columnas después de renombrar:\", list(df.columns))\n",
    "\n",
    "# 🛡️ Blindaje manual: fuerza 'Status' si existe algún alias conocido\n",
    "if \"Status\" not in df.columns:\n",
    "    # Busca cualquier alias que pudiera haber quedado\n",
    "    posibles = [c for c in df.columns if c.strip().lower().replace(\" \", \"\") in [\n",
    "        \"wtstatus\", \"estatus\", \"condicion\", \"estado\", \"tree_status\", \"treestatus\"\n",
    "    ]]\n",
    "    if posibles:\n",
    "        print(f\"⚠️ Renombrando columna '{posibles[0]}' a 'Status' (falló el renombrado automático)\")\n",
    "        df[\"Status\"] = df[posibles[0]]\n",
    "    else:\n",
    "        print(\"⚠️ 'Status' no encontrado ni con aliases, se crea vacía.\")\n",
    "        df[\"Status\"] = pd.NA\n",
    "\n",
    "\n",
    "# 2. (Opcional pero recomendable) QA: asegúrate de tener las columnas crudas de catálogo\n",
    "for col in [\"Defect\", \"Species\", \"Pests\", \"Status\"]:\n",
    "    if col not in df.columns:\n",
    "        print(f\"⚠️ WARNING: '{col}' no está, se agrega vacía.\")\n",
    "        df[col] = pd.NA\n",
    "for c in [\"defect_id\", \"species_id\", \"pests_id\", \"status_id\"]:\n",
    "    if c in df.columns:\n",
    "        print(f\"🧹 Eliminando columna '{c}' previa.\")\n",
    "        df = df.drop(columns=[c])"
   ],
   "id": "7e47fa4d4638c708",
   "outputs": [
    {
     "name": "stdout",
     "output_type": "stream",
     "text": [
      "Columnas después de renombrar: ['stand', 'plot', 'tree_number', 'Tree_ID', 'Status', 'Species', 'WT Leaf', 'WT DHT', 'dbh_in', 'tht_ft', 'merch_ht_ft', 'Pests', 'jenkinsTotalAgBiomassGREEN', 'short_note', 'Preferences::WorldTreePrefsInventoryType', 'Preferences::WorldTreeUnits', 'Preferences::prefsFileName', 'archivo_origen', 'contractcode', 'cruise_date']\n",
      "⚠️ WARNING: 'Defect' no está, se agrega vacía.\n"
     ]
    }
   ],
   "execution_count": 19
  },
  {
   "metadata": {
    "ExecuteTime": {
     "end_time": "2025-07-04T00:42:08.568103Z",
     "start_time": "2025-07-04T00:42:08.548847Z"
    }
   },
   "cell_type": "code",
   "source": "print(df.head(5))",
   "id": "1a41539b426a24e1",
   "outputs": [
    {
     "name": "stdout",
     "output_type": "stream",
     "text": [
      "   stand  plot  tree_number                  Tree_ID       Status   Species  \\\n",
      "0      1     1            1     54418544659281797120  1 Viva/Vivo  Elongata   \n",
      "1      1     1            2    915487742582450814976  1 Viva/Vivo  Elongata   \n",
      "2      1     1            3  69004127945880611323904  1 Viva/Vivo  Elongata   \n",
      "3      1     1            4  93314542940889307676672  1 Viva/Vivo  Elongata   \n",
      "4      1     1            5       821588747087172992  1 Viva/Vivo  Elongata   \n",
      "\n",
      "     WT Leaf  WT DHT  dbh_in     tht_ft  merch_ht_ft Pests  \\\n",
      "0  4 76-100%       0       0   0.984252            0   NaN   \n",
      "1  4 76-100%       0       0   7.874016            0   NaN   \n",
      "2  4 76-100%       0       0  11.154856            0   NaN   \n",
      "3  4 76-100%       0       0   9.842520            0   NaN   \n",
      "4  4 76-100%       0       0  10.170604            0   NaN   \n",
      "\n",
      "  jenkinsTotalAgBiomassGREEN short_note  \\\n",
      "0                          ?        NaN   \n",
      "1                          ?        NaN   \n",
      "2                          ?        NaN   \n",
      "3                          ?        NaN   \n",
      "4                          ?        NaN   \n",
      "\n",
      "  Preferences::WorldTreePrefsInventoryType Preferences::WorldTreeUnits  \\\n",
      "0                                 Estimate                    Imperial   \n",
      "1                                 Estimate                    Imperial   \n",
      "2                                 Estimate                    Imperial   \n",
      "3                                 Estimate                    Imperial   \n",
      "4                                 Estimate                    Imperial   \n",
      "\n",
      "         Preferences::prefsFileName  \\\n",
      "0  MX0009_Mexico_2021_Manuel Mapula   \n",
      "1  MX0009_Mexico_2021_Manuel Mapula   \n",
      "2  MX0009_Mexico_2021_Manuel Mapula   \n",
      "3  MX0009_Mexico_2021_Manuel Mapula   \n",
      "4  MX0009_Mexico_2021_Manuel Mapula   \n",
      "\n",
      "                                      archivo_origen contractcode cruise_date  \\\n",
      "0  C:\\Users\\HeyCe\\World Tree Technologies Inc\\For...       MX0009  01/01/2022   \n",
      "1  C:\\Users\\HeyCe\\World Tree Technologies Inc\\For...       MX0009  01/01/2022   \n",
      "2  C:\\Users\\HeyCe\\World Tree Technologies Inc\\For...       MX0009  01/01/2022   \n",
      "3  C:\\Users\\HeyCe\\World Tree Technologies Inc\\For...       MX0009  01/01/2022   \n",
      "4  C:\\Users\\HeyCe\\World Tree Technologies Inc\\For...       MX0009  01/01/2022   \n",
      "\n",
      "  Defect  \n",
      "0   <NA>  \n",
      "1   <NA>  \n",
      "2   <NA>  \n",
      "3   <NA>  \n",
      "4   <NA>  \n"
     ]
    }
   ],
   "execution_count": 20
  },
  {
   "metadata": {
    "ExecuteTime": {
     "end_time": "2025-07-04T00:42:09.036584Z",
     "start_time": "2025-07-04T00:42:08.649127Z"
    }
   },
   "cell_type": "code",
   "source": [
    "# 3. Procesa TODO el DataFrame igual que en main.py\n",
    "engine = get_engine()\n",
    "country_code = specific_file\n",
    "from CruisesProcessor.catalog_normalizer import ensure_catalog_entries\n",
    "\n",
    "# Si falta Disease (como en 2022), créala vacía para evitar el KeyError\n",
    "if \"Disease\" not in df.columns:\n",
    "    print(\"⚠️ El formulario de 2022 no tiene columna 'Disease', se crea vacía.\")\n",
    "    df[\"Disease\"] = pd.NA\n",
    "if \"Coppiced\" not in df.columns:\n",
    "    print(\"⚠️ El formulario de 2022 no tiene columna 'Coppiced', se crea vacía.\")\n",
    "    df[\"Coppiced\"] = pd.NA\n",
    "if \"Permanent Plot\" not in df.columns:\n",
    "    print(\"⚠️ El formulario de 2022 no tiene columna 'Permanent Plot', se crea vacía.\")\n",
    "    df[\"Permanent Plot\"] = pd.NA\n",
    "\n",
    "df_good, df_bad = process_inventory_dataframe(df, engine, country_code)\n",
    "\n",
    "print(f\"✔️ Filas válidas: {len(df_good)} | ❌ Filas con error: {len(df_bad)}\")\n",
    "\n",
    "if not df_bad.empty:\n",
    "    df_bad.to_excel(\"bad_rows_inventory_us_2022.xlsx\", index=False)"
   ],
   "id": "4156d0991b8f70cb",
   "outputs": [
    {
     "name": "stdout",
     "output_type": "stream",
     "text": [
      "💻 Conectado a la base de datos helloworldtree\n",
      "⚠️ El formulario de 2022 no tiene columna 'Disease', se crea vacía.\n",
      "⚠️ El formulario de 2022 no tiene columna 'Coppiced', se crea vacía.\n",
      "⚠️ El formulario de 2022 no tiene columna 'Permanent Plot', se crea vacía.\n",
      "🌳 Doyle calculado\n",
      "\n",
      "✅ No se imputaron árboles\n",
      "✔️ Filas válidas: 1407 | ❌ Filas con error: 0\n"
     ]
    }
   ],
   "execution_count": 21
  },
  {
   "metadata": {
    "ExecuteTime": {
     "end_time": "2025-07-04T00:42:09.999627Z",
     "start_time": "2025-07-04T00:42:09.115593Z"
    }
   },
   "cell_type": "code",
   "source": [
    "from core.schema_helpers import rename_columns_using_schema, get_dtypes_for_dataframe, FINAL_ORDER\n",
    "from CruisesProcessor.general_importer import prepare_df_for_sql, save_inventory_to_sql, ensure_table\n",
    "\n",
    "# 1. Renombra columnas usando schema (si hace falta)\n",
    "df_sql = rename_columns_using_schema(df_good)\n",
    "\n",
    "# 2. Alinea y rellena columnas según el orden oficial\n",
    "for col in FINAL_ORDER:\n",
    "    if col not in df_sql.columns:\n",
    "        df_sql[col] = pd.NA\n",
    "df_sql = df_sql[FINAL_ORDER]\n",
    "\n",
    "# 3. Castea los tipos correctos\n",
    "dtypes = get_dtypes_for_dataframe(df_sql)\n",
    "for col, dtype in dtypes.items():\n",
    "    if col in df_sql.columns:\n",
    "        try:\n",
    "            df_sql[col] = df_sql[col].astype(dtype.python_type, errors=\"ignore\")\n",
    "        except Exception:\n",
    "            pass\n",
    "\n",
    "# 4. Limpia NAs para SQL (usar clean_for_sql si quieres)\n",
    "df_sql = df_sql.astype(object).where(df_sql.notna(), None)\n",
    "\n",
    "# 5. Asegura la tabla y mete los datos\n",
    "ensure_table(df_sql, engine, f\"inventory_{specific_file}_2022\", recreate=False)\n",
    "save_inventory_to_sql(\n",
    "    df_sql,\n",
    "    engine,\n",
    "    f\"inventory_{specific_file}_2022\",\n",
    "    if_exists=\"append\",\n",
    "    dtype=dtypes,\n",
    "    progress=True\n",
    ")\n"
   ],
   "id": "898b8912980e76a7",
   "outputs": [
    {
     "name": "stdout",
     "output_type": "stream",
     "text": [
      "🔑 PRIMARY KEY agregada en 'id'\n",
      "\n",
      "=== INICIO DE IMPORTACIÓN ===\n",
      "💻 Conectado a la base de datos helloworldtree\n"
     ]
    },
    {
     "name": "stderr",
     "output_type": "stream",
     "text": [
      "Insertando → inventory_mx_2022: 100%|██████████| 2/2 [00:00<00:00,  6.38filas/s]"
     ]
    },
    {
     "name": "stdout",
     "output_type": "stream",
     "text": [
      "✅ Bulk insert completado: \n",
      " 'inventory_mx_2022' (1407 filas)\n"
     ]
    },
    {
     "name": "stderr",
     "output_type": "stream",
     "text": [
      "\n"
     ]
    }
   ],
   "execution_count": 22
  }
 ],
 "metadata": {
  "kernelspec": {
   "display_name": "Python 3",
   "language": "python",
   "name": "python3"
  },
  "language_info": {
   "codemirror_mode": {
    "name": "ipython",
    "version": 2
   },
   "file_extension": ".py",
   "mimetype": "text/x-python",
   "name": "python",
   "nbconvert_exporter": "python",
   "pygments_lexer": "ipython2",
   "version": "2.7.6"
  }
 },
 "nbformat": 4,
 "nbformat_minor": 5
}
