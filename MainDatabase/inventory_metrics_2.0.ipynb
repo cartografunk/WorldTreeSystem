{
 "cells": [
  {
   "cell_type": "code",
   "id": "initial_id",
   "metadata": {
    "collapsed": true,
    "ExecuteTime": {
     "end_time": "2025-06-13T00:18:21.959704Z",
     "start_time": "2025-06-13T00:18:16.431065Z"
    }
   },
   "source": [
    "from core.libs import json\n",
    "\n",
    "# 1. Ruta al schema JSON\n",
    "schema_path = r\"C:\\Users\\HeyCe\\World Tree Technologies Inc\\Operations - Documentos\\WorldTreeSystem\\AuxiliaryScripts\\inventory_metrics_schema.json\"\n",
    "with open(schema_path, \"r\", encoding=\"utf-8\") as f:\n",
    "    schema = json.load(f)"
   ],
   "outputs": [],
   "execution_count": 1
  },
  {
   "metadata": {
    "ExecuteTime": {
     "end_time": "2025-06-13T00:18:36.737595Z",
     "start_time": "2025-06-13T00:18:36.731168Z"
    }
   },
   "cell_type": "code",
   "source": "newworldorder = [\"rel_path\",\"contract_code\",\"inventory_year\",\"inventory_date\",\"survival\",\"tht_mean\",\"tht_std\",\"mht_mean\",\"mht_std\",\"mht_pct_of_target\",\"dbh_mean\",\"dbh_std\",\"dbh_pct_of_target\",\"doyle_bf_mean\",\"doyle_bf_std\",\"doyle_bf_total\",\"projected_dbh\",\"projected_doyle_bf\"]\n",
   "id": "1022b232932102d9",
   "outputs": [],
   "execution_count": 2
  },
  {
   "metadata": {
    "ExecuteTime": {
     "end_time": "2025-06-13T00:26:27.650651Z",
     "start_time": "2025-06-13T00:26:27.641220Z"
    }
   },
   "cell_type": "code",
   "source": [
    "# 3. Haz un dict rápido {col_name: propiedades}\n",
    "schema_map = {col[\"column_name\"]: col for col in schema}\n",
    "\n",
    "# 4. Utilidad para armar la línea SQL de cada columna\n",
    "def make_sql_line(col):\n",
    "    name = col[\"column_name\"]\n",
    "    dtype = col[\"data_type\"].upper()\n",
    "    # Numeric precision/scale\n",
    "    if dtype == \"NUMERIC\":\n",
    "        if col[\"numeric_precision\"] and col[\"numeric_scale\"] is not None:\n",
    "            dtype += f'({col[\"numeric_precision\"]},{col[\"numeric_scale\"]})'\n",
    "    elif dtype == \"INTEGER\" and col[\"numeric_precision\"]:\n",
    "        # Opcional: puedes ignorar (PostgreSQL ya lo interpreta)\n",
    "        pass\n",
    "    # Nullabilidad\n",
    "    nullable = \"NOT NULL\" if col[\"is_nullable\"] == \"NO\" else \"\"\n",
    "    # Default\n",
    "    default = f'DEFAULT {col[\"column_default\"]}' if col[\"column_default\"] else \"\"\n",
    "    return f\"    {name} {dtype} {nullable} {default}\".strip()\n",
    "\n",
    "for colname in newworldorder:\n",
    "    print(make_sql_line(schema_map[colname]))"
   ],
   "id": "d493fc0ac3fa356e",
   "outputs": [
    {
     "name": "stdout",
     "output_type": "stream",
     "text": [
      "rel_path TEXT\n",
      "contract_code TEXT NOT NULL\n",
      "inventory_year INTEGER\n",
      "inventory_date TEXT NOT NULL\n",
      "survival NUMERIC(3,2)\n",
      "tht_mean NUMERIC\n",
      "tht_std NUMERIC\n",
      "mht_mean NUMERIC\n",
      "mht_std NUMERIC\n",
      "mht_pct_of_target NUMERIC\n",
      "dbh_mean NUMERIC\n",
      "dbh_std NUMERIC\n",
      "dbh_pct_of_target NUMERIC\n",
      "doyle_bf_mean NUMERIC\n",
      "doyle_bf_std NUMERIC\n",
      "doyle_bf_total NUMERIC\n",
      "projected_dbh NUMERIC\n",
      "projected_doyle_bf NUMERIC\n"
     ]
    }
   ],
   "execution_count": 5
  },
  {
   "metadata": {
    "ExecuteTime": {
     "end_time": "2025-06-13T00:28:33.737190Z",
     "start_time": "2025-06-13T00:28:33.624651Z"
    }
   },
   "cell_type": "code",
   "source": [
    "from sqlalchemy import text\n",
    "from core.db import get_engine\n",
    "engine = get_engine()\n",
    "\n",
    "# 5. Construir el CREATE TABLE ordenado\n",
    "lines = [make_sql_line(schema_map[col]) for col in newworldorder]\n",
    "\n",
    "create_stmt = (\n",
    "    \"CREATE TABLE masterdatabase.inventory_metrics_new (\\n\" +\n",
    "    \",\\n\".join(lines) +\n",
    "    \"\\n);\"\n",
    ")\n",
    "\n",
    "print(create_stmt)\n",
    "\n",
    "with engine.connect() as conn:\n",
    "    conn.execute(text(create_stmt))\n",
    "    conn.commit()\n",
    "print(\"✅ Tabla creada en la base.\")"
   ],
   "id": "2e9e28ed8d6a43db",
   "outputs": [
    {
     "name": "stdout",
     "output_type": "stream",
     "text": [
      "💻 Conectado a la base de datos helloworldtree\n",
      "CREATE TABLE masterdatabase.inventory_metrics_new (\n",
      "rel_path TEXT,\n",
      "contract_code TEXT NOT NULL,\n",
      "inventory_year INTEGER,\n",
      "inventory_date TEXT NOT NULL,\n",
      "survival NUMERIC(3,2),\n",
      "tht_mean NUMERIC,\n",
      "tht_std NUMERIC,\n",
      "mht_mean NUMERIC,\n",
      "mht_std NUMERIC,\n",
      "mht_pct_of_target NUMERIC,\n",
      "dbh_mean NUMERIC,\n",
      "dbh_std NUMERIC,\n",
      "dbh_pct_of_target NUMERIC,\n",
      "doyle_bf_mean NUMERIC,\n",
      "doyle_bf_std NUMERIC,\n",
      "doyle_bf_total NUMERIC,\n",
      "projected_dbh NUMERIC,\n",
      "projected_doyle_bf NUMERIC\n",
      ");\n",
      "✅ Tabla creada en la base.\n"
     ]
    }
   ],
   "execution_count": 9
  },
  {
   "metadata": {
    "ExecuteTime": {
     "end_time": "2025-06-13T00:37:12.098175Z",
     "start_time": "2025-06-13T00:37:11.984186Z"
    }
   },
   "cell_type": "code",
   "source": [
    "from core.db import get_engine\n",
    "from sqlalchemy import text\n",
    "\n",
    "engine = get_engine()\n",
    "\n",
    "\n",
    "# 2. Copia los datos al nuevo orden\n",
    "insert_sql = \"\"\"\n",
    "INSERT INTO masterdatabase.inventory_metrics_new (\n",
    "    rel_path,\n",
    "    contract_code,\n",
    "    inventory_year,\n",
    "    inventory_date,\n",
    "    survival,\n",
    "    tht_mean,\n",
    "    tht_std,\n",
    "    mht_mean,\n",
    "    mht_std,\n",
    "    mht_pct_of_target,\n",
    "    dbh_mean,\n",
    "    dbh_std,\n",
    "    dbh_pct_of_target,\n",
    "    doyle_bf_mean,\n",
    "    doyle_bf_std,\n",
    "    doyle_bf_total,\n",
    "    projected_dbh,\n",
    "    projected_doyle_bf\n",
    ")\n",
    "SELECT\n",
    "    rel_path,\n",
    "    contract_code,\n",
    "    inventory_year,\n",
    "    inventory_date,\n",
    "    survival,\n",
    "    tht_mean,\n",
    "    tht_std,\n",
    "    mht_mean,\n",
    "    mht_std,\n",
    "    mht_pct_of_target,\n",
    "    dbh_mean,\n",
    "    dbh_std,\n",
    "    dbh_pct_of_target,\n",
    "    doyle_bf_mean,\n",
    "    doyle_bf_std,\n",
    "    doyle_bf_total,\n",
    "    projected_dbh,\n",
    "    projected_doyle_bf\n",
    "FROM masterdatabase.inventory_metrics;\n",
    "\"\"\"\n",
    "\n",
    "# 3. Haz el swap (si quieres reemplazar la original)\n",
    "swap_sql = \"\"\"\n",
    "DROP TABLE masterdatabase.inventory_metrics;\n",
    "ALTER TABLE masterdatabase.inventory_metrics_new RENAME TO inventory_metrics;\n",
    "\"\"\"\n",
    "\n",
    "with engine.begin() as conn:  # begin() hace commit automático\n",
    "    print(\"🚧 Copiando datos...\")\n",
    "    conn.execute(text(insert_sql))\n",
    "    # Si quieres hacer el swap, descomenta:\n",
    "    print(\"🚧 Reemplazando tabla original (swap)...\")\n",
    "    conn.execute(text(swap_sql))\n",
    "\n",
    "print(\"✅ ¡Proceso terminado, padrino!\")\n"
   ],
   "id": "b080d5d42b2a338f",
   "outputs": [
    {
     "name": "stdout",
     "output_type": "stream",
     "text": [
      "💻 Conectado a la base de datos helloworldtree\n",
      "🚧 Copiando datos...\n",
      "🚧 Reemplazando tabla original (swap)...\n",
      "✅ ¡Proceso terminado, padrino!\n"
     ]
    }
   ],
   "execution_count": 14
  }
 ],
 "metadata": {
  "kernelspec": {
   "display_name": "Python 3",
   "language": "python",
   "name": "python3"
  },
  "language_info": {
   "codemirror_mode": {
    "name": "ipython",
    "version": 2
   },
   "file_extension": ".py",
   "mimetype": "text/x-python",
   "name": "python",
   "nbconvert_exporter": "python",
   "pygments_lexer": "ipython2",
   "version": "2.7.6"
  }
 },
 "nbformat": 4,
 "nbformat_minor": 5
}
